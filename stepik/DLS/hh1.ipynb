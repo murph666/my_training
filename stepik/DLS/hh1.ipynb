{
 "cells": [
  {
   "cell_type": "code",
   "execution_count": 4,
   "id": "double-loading",
   "metadata": {},
   "outputs": [],
   "source": [
    "items = [('one', 'two'), ('three', 'four'), ('five', 'six'), ('string', 'a')]\n"
   ]
  },
  {
   "cell_type": "code",
   "execution_count": 6,
   "id": "national-seating",
   "metadata": {},
   "outputs": [
    {
     "data": {
      "text/plain": [
       "[('one', 'two'), ('three', 'four'), ('five', 'six'), ('string', 'a')]"
      ]
     },
     "execution_count": 6,
     "metadata": {},
     "output_type": "execute_result"
    }
   ],
   "source": [
    "items"
   ]
  },
  {
   "cell_type": "code",
   "execution_count": 12,
   "id": "described-psychology",
   "metadata": {},
   "outputs": [
    {
     "data": {
      "text/plain": [
       "[('string', 'a'), ('one', 'two'), ('three', 'four'), ('five', 'six')]"
      ]
     },
     "execution_count": 12,
     "metadata": {},
     "output_type": "execute_result"
    }
   ],
   "source": [
    "sorted_items = sorted(items, key=lambda x: x[1][-1])\n",
    "sorted_items"
   ]
  },
  {
   "cell_type": "code",
   "execution_count": 20,
   "id": "vital-people",
   "metadata": {},
   "outputs": [
    {
     "data": {
      "text/plain": [
       "[-5, 2, -3, 4, -1]"
      ]
     },
     "execution_count": 20,
     "metadata": {},
     "output_type": "execute_result"
    }
   ],
   "source": [
    "x = [1, 2, 3, 4, 5]\n",
    "x[::-2] = [-1, -3, -5]\n",
    "x"
   ]
  },
  {
   "cell_type": "code",
   "execution_count": 20,
   "id": "super-contribution",
   "metadata": {},
   "outputs": [],
   "source": [
    "def cumsum_and_erase(A, erase=1):\n",
    "    C=[]\n",
    "    for i in range(1, len(A) + 1):\n",
    "        c = sum(A[0:i])\n",
    "        if c != erase:\n",
    "            C.append(c)\n",
    "    return C"
   ]
  },
  {
   "cell_type": "code",
   "execution_count": 21,
   "id": "healthy-winner",
   "metadata": {},
   "outputs": [
    {
     "name": "stdout",
     "output_type": "stream",
     "text": [
      "[5, 6, 15, 29]\n"
     ]
    }
   ],
   "source": [
    "A = [5, 1, 4, 5, 14] \n",
    "B = cumsum_and_erase(A, erase=10)\n",
    "print(B)\n",
    "assert B == [5, 6, 15, 29], \"Something is wrong! Please try again\""
   ]
  },
  {
   "cell_type": "code",
   "execution_count": null,
   "id": "executed-margin",
   "metadata": {},
   "outputs": [],
   "source": [
    "def process(sentences):\n",
    "    result = []\n",
    "    for elem in sentences:\n",
    "        if elem.isalpha():\n",
    "            result.append(elem)\n",
    "        else:\n",
    "            elem = list(elem.split(' '))\n",
    "            \n",
    "    return result"
   ]
  }
 ],
 "metadata": {
  "kernelspec": {
   "display_name": "Python 3",
   "language": "python",
   "name": "python3"
  },
  "language_info": {
   "codemirror_mode": {
    "name": "ipython",
    "version": 3
   },
   "file_extension": ".py",
   "mimetype": "text/x-python",
   "name": "python",
   "nbconvert_exporter": "python",
   "pygments_lexer": "ipython3",
   "version": "3.8.5"
  }
 },
 "nbformat": 4,
 "nbformat_minor": 5
}
