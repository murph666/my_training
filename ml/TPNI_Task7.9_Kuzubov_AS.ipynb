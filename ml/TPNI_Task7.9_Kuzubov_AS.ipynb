{
 "cells": [
  {
   "cell_type": "code",
   "execution_count": 27,
   "metadata": {},
   "outputs": [
    {
     "output_type": "stream",
     "name": "stderr",
     "text": [
      "C:\\Users\\Akexander\\AppData\\Roaming\\Python\\Python38\\site-packages\\IPython\\core\\interactiveshell.py:3155: DtypeWarning: Columns (11,12,31) have mixed types.Specify dtype option on import or set low_memory=False.\n  has_raised = await self.run_ast_nodes(code_ast.body, cell_name,\n"
     ]
    }
   ],
   "source": [
    "import pandas as pd\n",
    "import numpy as np\n",
    "from matplotlib import pyplot as plt\n",
    "from sklearn.model_selection import train_test_split\n",
    "from sklearn.metrics import mean_squared_error\n",
    "from sklearn.tree import DecisionTreeClassifier\n",
    "from sklearn.metrics import f1_score\n",
    "\n",
    "Train_data = pd.read_csv('./train(5).csv')"
   ]
  },
  {
   "cell_type": "code",
   "execution_count": 28,
   "metadata": {},
   "outputs": [],
   "source": [
    "Train_new_data = Train_data.loc[:, ['fine_amount', 'state_fee', 'late_fee', 'discount_amount', 'balance_due', 'compliance']]"
   ]
  },
  {
   "cell_type": "code",
   "execution_count": 29,
   "metadata": {},
   "outputs": [
    {
     "output_type": "execute_result",
     "data": {
      "text/plain": [
       "        fine_amount  state_fee  late_fee  discount_amount  balance_due  \\\n",
       "0             250.0       10.0      25.0              0.0        305.0   \n",
       "1             750.0       10.0      75.0              0.0         75.0   \n",
       "2             250.0        0.0       0.0              0.0          0.0   \n",
       "3             250.0        0.0       0.0              0.0          0.0   \n",
       "4             250.0        0.0       0.0              0.0          0.0   \n",
       "...             ...        ...       ...              ...          ...   \n",
       "250301       1000.0        0.0       0.0              0.0          0.0   \n",
       "250302       1000.0        0.0       0.0              0.0          0.0   \n",
       "250303       1000.0        0.0       0.0              0.0          0.0   \n",
       "250304       1000.0        0.0       0.0              0.0          0.0   \n",
       "250305       1000.0        0.0       0.0              0.0          0.0   \n",
       "\n",
       "        compliance  \n",
       "0              0.0  \n",
       "1              1.0  \n",
       "2              NaN  \n",
       "3              NaN  \n",
       "4              NaN  \n",
       "...            ...  \n",
       "250301         NaN  \n",
       "250302         NaN  \n",
       "250303         NaN  \n",
       "250304         NaN  \n",
       "250305         NaN  \n",
       "\n",
       "[250306 rows x 6 columns]"
      ],
      "text/html": "<div>\n<style scoped>\n    .dataframe tbody tr th:only-of-type {\n        vertical-align: middle;\n    }\n\n    .dataframe tbody tr th {\n        vertical-align: top;\n    }\n\n    .dataframe thead th {\n        text-align: right;\n    }\n</style>\n<table border=\"1\" class=\"dataframe\">\n  <thead>\n    <tr style=\"text-align: right;\">\n      <th></th>\n      <th>fine_amount</th>\n      <th>state_fee</th>\n      <th>late_fee</th>\n      <th>discount_amount</th>\n      <th>balance_due</th>\n      <th>compliance</th>\n    </tr>\n  </thead>\n  <tbody>\n    <tr>\n      <th>0</th>\n      <td>250.0</td>\n      <td>10.0</td>\n      <td>25.0</td>\n      <td>0.0</td>\n      <td>305.0</td>\n      <td>0.0</td>\n    </tr>\n    <tr>\n      <th>1</th>\n      <td>750.0</td>\n      <td>10.0</td>\n      <td>75.0</td>\n      <td>0.0</td>\n      <td>75.0</td>\n      <td>1.0</td>\n    </tr>\n    <tr>\n      <th>2</th>\n      <td>250.0</td>\n      <td>0.0</td>\n      <td>0.0</td>\n      <td>0.0</td>\n      <td>0.0</td>\n      <td>NaN</td>\n    </tr>\n    <tr>\n      <th>3</th>\n      <td>250.0</td>\n      <td>0.0</td>\n      <td>0.0</td>\n      <td>0.0</td>\n      <td>0.0</td>\n      <td>NaN</td>\n    </tr>\n    <tr>\n      <th>4</th>\n      <td>250.0</td>\n      <td>0.0</td>\n      <td>0.0</td>\n      <td>0.0</td>\n      <td>0.0</td>\n      <td>NaN</td>\n    </tr>\n    <tr>\n      <th>...</th>\n      <td>...</td>\n      <td>...</td>\n      <td>...</td>\n      <td>...</td>\n      <td>...</td>\n      <td>...</td>\n    </tr>\n    <tr>\n      <th>250301</th>\n      <td>1000.0</td>\n      <td>0.0</td>\n      <td>0.0</td>\n      <td>0.0</td>\n      <td>0.0</td>\n      <td>NaN</td>\n    </tr>\n    <tr>\n      <th>250302</th>\n      <td>1000.0</td>\n      <td>0.0</td>\n      <td>0.0</td>\n      <td>0.0</td>\n      <td>0.0</td>\n      <td>NaN</td>\n    </tr>\n    <tr>\n      <th>250303</th>\n      <td>1000.0</td>\n      <td>0.0</td>\n      <td>0.0</td>\n      <td>0.0</td>\n      <td>0.0</td>\n      <td>NaN</td>\n    </tr>\n    <tr>\n      <th>250304</th>\n      <td>1000.0</td>\n      <td>0.0</td>\n      <td>0.0</td>\n      <td>0.0</td>\n      <td>0.0</td>\n      <td>NaN</td>\n    </tr>\n    <tr>\n      <th>250305</th>\n      <td>1000.0</td>\n      <td>0.0</td>\n      <td>0.0</td>\n      <td>0.0</td>\n      <td>0.0</td>\n      <td>NaN</td>\n    </tr>\n  </tbody>\n</table>\n<p>250306 rows × 6 columns</p>\n</div>"
     },
     "metadata": {},
     "execution_count": 29
    }
   ],
   "source": [
    "Train_new_data"
   ]
  },
  {
   "cell_type": "code",
   "execution_count": 30,
   "metadata": {},
   "outputs": [
    {
     "output_type": "execute_result",
     "data": {
      "text/plain": [
       "(159880, 6)"
      ]
     },
     "metadata": {},
     "execution_count": 30
    }
   ],
   "source": [
    "Train_new_data = Train_new_data.dropna()\n",
    "Train_new_data.shape"
   ]
  },
  {
   "cell_type": "code",
   "execution_count": 31,
   "metadata": {},
   "outputs": [],
   "source": [
    "data = Train_new_data.drop(['compliance'], axis= 1)\n",
    "target = Train_new_data['compliance']\n",
    "trainDT, testDT, trainTRG,testTRG = train_test_split(data, target, test_size=0.3, shuffle=False)"
   ]
  },
  {
   "cell_type": "code",
   "execution_count": 32,
   "metadata": {},
   "outputs": [],
   "source": [
    "tree = DecisionTreeClassifier(random_state=23)"
   ]
  },
  {
   "cell_type": "code",
   "execution_count": 33,
   "metadata": {},
   "outputs": [
    {
     "output_type": "stream",
     "name": "stdout",
     "text": [
      "f1_score для test = 0.6163717674509042\n"
     ]
    }
   ],
   "source": [
    "tree.fit(testDT,testTRG)\n",
    "test_pred = tree.predict(testDT)\n",
    "test_f1_score = f1_score(testTRG,test_pred)\n",
    "print('f1_score для test =',test_f1_score)"
   ]
  },
  {
   "cell_type": "code",
   "execution_count": 34,
   "metadata": {},
   "outputs": [
    {
     "output_type": "stream",
     "name": "stdout",
     "text": [
      "{0.0: 148283, 1.0: 11597}\n"
     ]
    }
   ],
   "source": [
    "unique_compliance, counts_compliance = np.unique(Train_new_data['compliance'], return_counts=True)\n",
    "print(dict(zip(unique_compliance, counts_compliance)))\n",
    "\n",
    "min_count = min(counts_compliance)"
   ]
  },
  {
   "cell_type": "code",
   "execution_count": 35,
   "metadata": {},
   "outputs": [
    {
     "output_type": "execute_result",
     "data": {
      "text/plain": [
       "        fine_amount  state_fee  late_fee  discount_amount  balance_due  \\\n",
       "0             250.0       10.0      25.0              0.0        305.0   \n",
       "5             250.0       10.0      25.0              0.0        305.0   \n",
       "6             750.0       10.0      75.0              0.0        855.0   \n",
       "7             100.0       10.0      10.0              0.0        140.0   \n",
       "8             100.0       10.0      10.0              0.0        140.0   \n",
       "...             ...        ...       ...              ...          ...   \n",
       "250186        200.0       10.0      20.0              0.0          0.0   \n",
       "250210        200.0       10.0       0.0              0.0          0.0   \n",
       "250211        200.0       10.0       0.0              0.0          0.0   \n",
       "250265          0.0       10.0       0.0              0.0          0.0   \n",
       "250290        200.0       10.0       0.0              0.0          0.0   \n",
       "\n",
       "        compliance  \n",
       "0              0.0  \n",
       "5              0.0  \n",
       "6              0.0  \n",
       "7              0.0  \n",
       "8              0.0  \n",
       "...            ...  \n",
       "250186         1.0  \n",
       "250210         1.0  \n",
       "250211         1.0  \n",
       "250265         1.0  \n",
       "250290         1.0  \n",
       "\n",
       "[23194 rows x 6 columns]"
      ],
      "text/html": "<div>\n<style scoped>\n    .dataframe tbody tr th:only-of-type {\n        vertical-align: middle;\n    }\n\n    .dataframe tbody tr th {\n        vertical-align: top;\n    }\n\n    .dataframe thead th {\n        text-align: right;\n    }\n</style>\n<table border=\"1\" class=\"dataframe\">\n  <thead>\n    <tr style=\"text-align: right;\">\n      <th></th>\n      <th>fine_amount</th>\n      <th>state_fee</th>\n      <th>late_fee</th>\n      <th>discount_amount</th>\n      <th>balance_due</th>\n      <th>compliance</th>\n    </tr>\n  </thead>\n  <tbody>\n    <tr>\n      <th>0</th>\n      <td>250.0</td>\n      <td>10.0</td>\n      <td>25.0</td>\n      <td>0.0</td>\n      <td>305.0</td>\n      <td>0.0</td>\n    </tr>\n    <tr>\n      <th>5</th>\n      <td>250.0</td>\n      <td>10.0</td>\n      <td>25.0</td>\n      <td>0.0</td>\n      <td>305.0</td>\n      <td>0.0</td>\n    </tr>\n    <tr>\n      <th>6</th>\n      <td>750.0</td>\n      <td>10.0</td>\n      <td>75.0</td>\n      <td>0.0</td>\n      <td>855.0</td>\n      <td>0.0</td>\n    </tr>\n    <tr>\n      <th>7</th>\n      <td>100.0</td>\n      <td>10.0</td>\n      <td>10.0</td>\n      <td>0.0</td>\n      <td>140.0</td>\n      <td>0.0</td>\n    </tr>\n    <tr>\n      <th>8</th>\n      <td>100.0</td>\n      <td>10.0</td>\n      <td>10.0</td>\n      <td>0.0</td>\n      <td>140.0</td>\n      <td>0.0</td>\n    </tr>\n    <tr>\n      <th>...</th>\n      <td>...</td>\n      <td>...</td>\n      <td>...</td>\n      <td>...</td>\n      <td>...</td>\n      <td>...</td>\n    </tr>\n    <tr>\n      <th>250186</th>\n      <td>200.0</td>\n      <td>10.0</td>\n      <td>20.0</td>\n      <td>0.0</td>\n      <td>0.0</td>\n      <td>1.0</td>\n    </tr>\n    <tr>\n      <th>250210</th>\n      <td>200.0</td>\n      <td>10.0</td>\n      <td>0.0</td>\n      <td>0.0</td>\n      <td>0.0</td>\n      <td>1.0</td>\n    </tr>\n    <tr>\n      <th>250211</th>\n      <td>200.0</td>\n      <td>10.0</td>\n      <td>0.0</td>\n      <td>0.0</td>\n      <td>0.0</td>\n      <td>1.0</td>\n    </tr>\n    <tr>\n      <th>250265</th>\n      <td>0.0</td>\n      <td>10.0</td>\n      <td>0.0</td>\n      <td>0.0</td>\n      <td>0.0</td>\n      <td>1.0</td>\n    </tr>\n    <tr>\n      <th>250290</th>\n      <td>200.0</td>\n      <td>10.0</td>\n      <td>0.0</td>\n      <td>0.0</td>\n      <td>0.0</td>\n      <td>1.0</td>\n    </tr>\n  </tbody>\n</table>\n<p>23194 rows × 6 columns</p>\n</div>"
     },
     "metadata": {},
     "execution_count": 35
    }
   ],
   "source": [
    "balanced_data = pd.DataFrame([])\n",
    "\n",
    "for i in range(unique_compliance.shape[0]):\n",
    "    new_data = Train_new_data.loc[Train_new_data['compliance'] == i][:min_count]\n",
    "    balanced_data = pd.concat([balanced_data, new_data])\n",
    "\n",
    "balanced_data"
   ]
  },
  {
   "cell_type": "code",
   "execution_count": 36,
   "metadata": {},
   "outputs": [],
   "source": [
    "data = balanced_data.drop(['compliance'], axis=1)\n",
    "target = balanced_data['compliance']\n",
    "trainDT, testDT, trainTRG, testTRG = train_test_split(data, target, test_size=0.3, shuffle=False)"
   ]
  },
  {
   "cell_type": "code",
   "execution_count": 37,
   "metadata": {},
   "outputs": [],
   "source": [
    "tree = DecisionTreeClassifier(random_state=23)"
   ]
  },
  {
   "cell_type": "code",
   "execution_count": 38,
   "metadata": {},
   "outputs": [
    {
     "output_type": "stream",
     "name": "stdout",
     "text": [
      "f1_score для test = 1.0\n"
     ]
    }
   ],
   "source": [
    "tree.fit(testDT,testTRG)\n",
    "test_pred = tree.predict(testDT)\n",
    "test_f1_score = f1_score(testTRG,test_pred)\n",
    "print('f1_score для test =',test_f1_score)"
   ]
  },
  {
   "cell_type": "code",
   "execution_count": null,
   "metadata": {},
   "outputs": [],
   "source": []
  }
 ],
 "metadata": {
  "kernelspec": {
   "name": "python386jvsc74a57bd017b176003e5a58299d9d377f93fe2023428afbf220a933b9e6076d6870c707c0",
   "display_name": "Python 3.8.6 32-bit"
  },
  "language_info": {
   "codemirror_mode": {
    "name": "ipython",
    "version": 3
   },
   "file_extension": ".py",
   "mimetype": "text/x-python",
   "name": "python",
   "nbconvert_exporter": "python",
   "pygments_lexer": "ipython3",
   "version": "3.8.6-final"
  },
  "metadata": {
   "interpreter": {
    "hash": "17b176003e5a58299d9d377f93fe2023428afbf220a933b9e6076d6870c707c0"
   }
  }
 },
 "nbformat": 4,
 "nbformat_minor": 2
}