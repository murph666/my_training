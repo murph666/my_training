{
 "cells": [
  {
   "cell_type": "markdown",
   "metadata": {},
   "source": [
    "# Задания по уроку 5.2"
   ]
  },
  {
   "cell_type": "code",
   "execution_count": 1,
   "metadata": {},
   "outputs": [],
   "source": [
    "import numpy as np\n",
    "from random import randint"
   ]
  },
  {
   "cell_type": "markdown",
   "metadata": {},
   "source": [
    "## Задачи с проверкой кода\n",
    "\n",
    "1) Реализовать функцию нахождения самого частого элемента в массиве (голосование)"
   ]
  },
  {
   "cell_type": "code",
   "execution_count": 2,
   "metadata": {},
   "outputs": [],
   "source": [
    "def get_most_frequent_value(sequence):\n",
    "    unique, counts = np.unique(sequence, return_counts=True)\n",
    "    d = dict(zip(unique, counts))\n",
    "    i = list(d.values()).index(max(counts))\n",
    "\n",
    "    return list(d.keys())[i]"
   ]
  },
  {
   "cell_type": "code",
   "execution_count": 3,
   "metadata": {},
   "outputs": [
    {
     "data": {
      "text/plain": [
       "3"
      ]
     },
     "execution_count": 3,
     "metadata": {},
     "output_type": "execute_result"
    }
   ],
   "source": [
    "get_most_frequent_value([1, 2, 3, 3, 3, 4, 4])"
   ]
  },
  {
   "cell_type": "markdown",
   "metadata": {},
   "source": [
    "2) Реализовать функцию, выполняющую бутстреп."
   ]
  },
  {
   "cell_type": "code",
   "execution_count": 4,
   "metadata": {},
   "outputs": [],
   "source": [
    "def bootstrap(values, new_dataset_size):\n",
    "    \"\"\"\n",
    "    Creates a new dataset from the old one using bootstrap.\n",
    "    \n",
    "    :arg values: np.array of shape (n_objects, n_features), input objects\n",
    "    :arg new_dataset_size: int, number of elements in the resulting array\n",
    "    \n",
    "    :return: bootstraped_dataset: np.array of shape (new_dataset_size, n_features)\n",
    "    \"\"\"\n",
    "    res = np.empty((0,values.shape[1]), int)\n",
    "\n",
    "    for i in range(new_dataset_size):\n",
    "        res = np.append(res, [values[randint(0, values.shape[0]-1)]], axis = 0)\n",
    "\n",
    "    return res"
   ]
  },
  {
   "cell_type": "code",
   "execution_count": 5,
   "metadata": {},
   "outputs": [
    {
     "data": {
      "text/plain": [
       "array([[7, 8, 9],\n",
       "       [4, 5, 6],\n",
       "       [4, 5, 6],\n",
       "       [1, 2, 3]])"
      ]
     },
     "execution_count": 5,
     "metadata": {},
     "output_type": "execute_result"
    }
   ],
   "source": [
    "bootstrap(np.array([[1, 2, 3], [4, 5, 6], [7, 8, 9]]), 4)"
   ]
  },
  {
   "cell_type": "code",
   "execution_count": 6,
   "metadata": {},
   "outputs": [
    {
     "data": {
      "text/plain": [
       "array([[4, 5, 6],\n",
       "       [1, 2, 3]])"
      ]
     },
     "execution_count": 6,
     "metadata": {},
     "output_type": "execute_result"
    }
   ],
   "source": [
    "bootstrap(np.array([[1, 2, 3], [4, 5, 6], [7, 8, 9]]), 2)"
   ]
  }
 ],
 "metadata": {
  "kernelspec": {
   "display_name": "Python 3",
   "language": "python",
   "name": "python3"
  },
  "language_info": {
   "codemirror_mode": {
    "name": "ipython",
    "version": 3
   },
   "file_extension": ".py",
   "mimetype": "text/x-python",
   "name": "python",
   "nbconvert_exporter": "python",
   "pygments_lexer": "ipython3",
   "version": "3.8.5"
  }
 },
 "nbformat": 4,
 "nbformat_minor": 2
}
