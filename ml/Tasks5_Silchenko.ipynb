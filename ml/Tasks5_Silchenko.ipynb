{
 "cells": [
  {
   "cell_type": "markdown",
   "metadata": {},
   "source": [
    "# Задания по уроку 5.1"
   ]
  },
  {
   "cell_type": "code",
   "execution_count": 1,
   "metadata": {},
   "outputs": [],
   "source": [
    "import pandas as pd\n",
    "import numpy as np\n",
    "import math\n",
    "\n",
    "from sklearn.datasets import load_breast_cancer\n",
    "from sklearn.model_selection import train_test_split\n",
    "from sklearn.metrics import f1_score\n",
    "from sklearn.tree import DecisionTreeClassifier"
   ]
  },
  {
   "cell_type": "code",
   "execution_count": 2,
   "metadata": {},
   "outputs": [],
   "source": [
    "X, y = load_breast_cancer(return_X_y=True)"
   ]
  },
  {
   "cell_type": "code",
   "execution_count": 3,
   "metadata": {},
   "outputs": [],
   "source": [
    "X_train, X_test, y_train, y_test = train_test_split(X, y, random_state=42, test_size=0.2)"
   ]
  },
  {
   "cell_type": "markdown",
   "metadata": {},
   "source": [
    "## Задачи с проверкой кода"
   ]
  },
  {
   "cell_type": "markdown",
   "metadata": {},
   "source": [
    "2) Реализовать функцию подсчета энтропии"
   ]
  },
  {
   "cell_type": "code",
   "execution_count": 4,
   "metadata": {},
   "outputs": [],
   "source": [
    "def compute_entropy(labels):\n",
    "    \"\"\"\n",
    "    :arg labels: np.array of shape (n_objects,)\n",
    "    \n",
    "    :return: entropy: float\n",
    "    \"\"\"\n",
    "    unique, counts = np.unique(labels, return_counts=True)\n",
    "\n",
    "    rez = 0\n",
    "    for i in range(len(unique)):\n",
    "        veroatn =  counts[i]/np.sum(counts)\n",
    "        rez = rez - veroatn*math.log2(veroatn)\n",
    "\n",
    "    return rez"
   ]
  },
  {
   "cell_type": "markdown",
   "metadata": {},
   "source": [
    "3) Реализовать функцию подсчета Information Gain"
   ]
  },
  {
   "cell_type": "code",
   "execution_count": 9,
   "metadata": {},
   "outputs": [],
   "source": [
    "def calculate_information_gain(s0, *args):\n",
    "    \"\"\"\n",
    "    Calculates IG for a split s_1, ..., s_k.\n",
    "        :arg s0: the whole set, sequence of shape (n_objects,)\n",
    "        :arg args: split — a list of sequences, such that s0 = union(s_1, ..., s_k) and\n",
    "           for all i, j: intersection(s_i, s_j) = 0\n",
    "           \n",
    "        :return: information_gain: float\n",
    "    \"\"\"\n",
    "    unique_s0, counts_s0 = np.unique(s0, return_counts=True)\n",
    "\n",
    "    unique_args = []\n",
    "    counts_args = []\n",
    "\n",
    "    for i in range(len(args)):\n",
    "        unique_buf, counts_buf = np.unique(args[i], return_counts=True)\n",
    "        unique_args.append(unique_buf)\n",
    "        counts_args.append(counts_buf)\n",
    "\n",
    "    rez = compute_entropy(s0)\n",
    "\n",
    "    for i in range(len(args)):\n",
    "        rez = rez - (np.sum(counts_args[i])/np.sum(counts_s0))*compute_entropy(args[i])\n",
    "\n",
    "    return rez"
   ]
  },
  {
   "cell_type": "code",
   "execution_count": 10,
   "metadata": {},
   "outputs": [
    {
     "output_type": "execute_result",
     "data": {
      "text/plain": [
       "0.9182958340544896"
      ]
     },
     "metadata": {},
     "execution_count": 10
    }
   ],
   "source": [
    "calculate_information_gain([1, 2, 3, 4, 5, 6],[1, 2, 3, 4], [5, 6])"
   ]
  }
 ],
 "metadata": {
  "kernelspec": {
   "name": "python3",
   "display_name": "Python 3.8.6 64-bit",
   "metadata": {
    "interpreter": {
     "hash": "15181a7973f61d667b570e600b14c1d224228db17b1da8f383d2d089271ff728"
    }
   }
  },
  "language_info": {
   "codemirror_mode": {
    "name": "ipython",
    "version": 3
   },
   "file_extension": ".py",
   "mimetype": "text/x-python",
   "name": "python",
   "nbconvert_exporter": "python",
   "pygments_lexer": "ipython3",
   "version": "3.8.6-final"
  }
 },
 "nbformat": 4,
 "nbformat_minor": 2
}