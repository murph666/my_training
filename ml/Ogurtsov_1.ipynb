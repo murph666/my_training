{
 "cells": [
  {
   "cell_type": "code",
   "execution_count": 7,
   "metadata": {},
   "outputs": [],
   "source": [
    "import numpy as np\n",
    "import pandas as pd"
   ]
  },
  {
   "cell_type": "code",
   "execution_count": 8,
   "metadata": {},
   "outputs": [],
   "source": [
    "Koap = pd.Series(['12.6','12.18','12.8','12.7','12.14'], name='Статья КоАП')\n",
    "Type = pd.Series(['Не пристёгнут ремень безопасности','Непропуск пешехода','Нетрезвое вождение','Вождение без прав','Нарушение правил маневрирования'], name='Вид правонарушения')\n",
    "Cost = pd.Series(['1000 руб.','1500 руб.','30 000 руб.','30 000 руб.','500 руб.'], name='Сумма штрафа')\n",
    "Rights = pd.Series(['нет','нет','1.5 года',np.NaN,'нет'], name='Лишение прав')\n",
    "Arrest = pd.Series(['нет','нет',np.NaN,'до 15 сут.','нет'], name='Арест')\n",
    "frame = pd.concat([Koap,Type,Cost,Rights,Arrest], axis=1)"
   ]
  },
  {
   "cell_type": "code",
   "execution_count": 9,
   "metadata": {},
   "outputs": [
    {
     "data": {
      "text/html": [
       "<div>\n",
       "<style scoped>\n",
       "    .dataframe tbody tr th:only-of-type {\n",
       "        vertical-align: middle;\n",
       "    }\n",
       "\n",
       "    .dataframe tbody tr th {\n",
       "        vertical-align: top;\n",
       "    }\n",
       "\n",
       "    .dataframe thead th {\n",
       "        text-align: right;\n",
       "    }\n",
       "</style>\n",
       "<table border=\"1\" class=\"dataframe\">\n",
       "  <thead>\n",
       "    <tr style=\"text-align: right;\">\n",
       "      <th></th>\n",
       "      <th>Статья КоАП</th>\n",
       "      <th>Вид правонарушения</th>\n",
       "      <th>Сумма штрафа</th>\n",
       "      <th>Лишение прав</th>\n",
       "      <th>Арест</th>\n",
       "    </tr>\n",
       "  </thead>\n",
       "  <tbody>\n",
       "    <tr>\n",
       "      <th>0</th>\n",
       "      <td>12.6</td>\n",
       "      <td>Не пристёгнут ремень безопасности</td>\n",
       "      <td>1000 руб.</td>\n",
       "      <td>нет</td>\n",
       "      <td>нет</td>\n",
       "    </tr>\n",
       "    <tr>\n",
       "      <th>1</th>\n",
       "      <td>12.18</td>\n",
       "      <td>Непропуск пешехода</td>\n",
       "      <td>1500 руб.</td>\n",
       "      <td>нет</td>\n",
       "      <td>нет</td>\n",
       "    </tr>\n",
       "    <tr>\n",
       "      <th>2</th>\n",
       "      <td>12.8</td>\n",
       "      <td>Нетрезвое вождение</td>\n",
       "      <td>30 000 руб.</td>\n",
       "      <td>1.5 года</td>\n",
       "      <td>NaN</td>\n",
       "    </tr>\n",
       "    <tr>\n",
       "      <th>3</th>\n",
       "      <td>12.7</td>\n",
       "      <td>Вождение без прав</td>\n",
       "      <td>30 000 руб.</td>\n",
       "      <td>NaN</td>\n",
       "      <td>до 15 сут.</td>\n",
       "    </tr>\n",
       "    <tr>\n",
       "      <th>4</th>\n",
       "      <td>12.14</td>\n",
       "      <td>Нарушение правил маневрирования</td>\n",
       "      <td>500 руб.</td>\n",
       "      <td>нет</td>\n",
       "      <td>нет</td>\n",
       "    </tr>\n",
       "  </tbody>\n",
       "</table>\n",
       "</div>"
      ],
      "text/plain": [
       "  Статья КоАП                 Вид правонарушения Сумма штрафа Лишение прав  \\\n",
       "0        12.6  Не пристёгнут ремень безопасности    1000 руб.          нет   \n",
       "1       12.18                 Непропуск пешехода    1500 руб.          нет   \n",
       "2        12.8                 Нетрезвое вождение  30 000 руб.     1.5 года   \n",
       "3        12.7                  Вождение без прав  30 000 руб.          NaN   \n",
       "4       12.14    Нарушение правил маневрирования     500 руб.          нет   \n",
       "\n",
       "        Арест  \n",
       "0         нет  \n",
       "1         нет  \n",
       "2         NaN  \n",
       "3  до 15 сут.  \n",
       "4         нет  "
      ]
     },
     "execution_count": 9,
     "metadata": {},
     "output_type": "execute_result"
    }
   ],
   "source": [
    "frame"
   ]
  },
  {
   "cell_type": "code",
   "execution_count": null,
   "metadata": {},
   "outputs": [],
   "source": []
  }
 ],
 "metadata": {
  "kernelspec": {
   "display_name": "Python 3",
   "language": "python",
   "name": "python3"
  },
  "language_info": {
   "codemirror_mode": {
    "name": "ipython",
    "version": 3
   },
   "file_extension": ".py",
   "mimetype": "text/x-python",
   "name": "python",
   "nbconvert_exporter": "python",
   "pygments_lexer": "ipython3",
   "version": "3.8.5"
  }
 },
 "nbformat": 4,
 "nbformat_minor": 4
}
