{
 "cells": [
  {
   "cell_type": "code",
   "execution_count": 33,
   "metadata": {},
   "outputs": [
    {
     "output_type": "stream",
     "name": "stderr",
     "text": [
      "C:\\Users\\Akexander\\AppData\\Roaming\\Python\\Python38\\site-packages\\IPython\\core\\interactiveshell.py:3155: DtypeWarning: Columns (11,12,31) have mixed types.Specify dtype option on import or set low_memory=False.\n  has_raised = await self.run_ast_nodes(code_ast.body, cell_name,\n"
     ]
    }
   ],
   "source": [
    "import pandas as pd\n",
    "import numpy as np\n",
    "from matplotlib import pyplot as plt\n",
    "from sklearn.model_selection import train_test_split\n",
    "from sklearn.metrics import mean_squared_error\n",
    "from sklearn.linear_model import LinearRegression\n",
    "\n",
    "Train_data = pd.read_csv('./train(5).csv')"
   ]
  },
  {
   "cell_type": "code",
   "execution_count": 22,
   "metadata": {},
   "outputs": [],
   "source": [
    "Train_new_data = Train_data.loc[:, ['fine_amount', 'state_fee', 'late_fee', 'discount_amount', 'balance_due']]"
   ]
  },
  {
   "cell_type": "code",
   "execution_count": 23,
   "metadata": {},
   "outputs": [
    {
     "output_type": "execute_result",
     "data": {
      "text/plain": [
       "        fine_amount  state_fee  late_fee  discount_amount  balance_due\n",
       "0             250.0       10.0      25.0              0.0        305.0\n",
       "1             750.0       10.0      75.0              0.0         75.0\n",
       "2             250.0        0.0       0.0              0.0          0.0\n",
       "3             250.0        0.0       0.0              0.0          0.0\n",
       "4             250.0        0.0       0.0              0.0          0.0\n",
       "...             ...        ...       ...              ...          ...\n",
       "250301       1000.0        0.0       0.0              0.0          0.0\n",
       "250302       1000.0        0.0       0.0              0.0          0.0\n",
       "250303       1000.0        0.0       0.0              0.0          0.0\n",
       "250304       1000.0        0.0       0.0              0.0          0.0\n",
       "250305       1000.0        0.0       0.0              0.0          0.0\n",
       "\n",
       "[250306 rows x 5 columns]"
      ],
      "text/html": "<div>\n<style scoped>\n    .dataframe tbody tr th:only-of-type {\n        vertical-align: middle;\n    }\n\n    .dataframe tbody tr th {\n        vertical-align: top;\n    }\n\n    .dataframe thead th {\n        text-align: right;\n    }\n</style>\n<table border=\"1\" class=\"dataframe\">\n  <thead>\n    <tr style=\"text-align: right;\">\n      <th></th>\n      <th>fine_amount</th>\n      <th>state_fee</th>\n      <th>late_fee</th>\n      <th>discount_amount</th>\n      <th>balance_due</th>\n    </tr>\n  </thead>\n  <tbody>\n    <tr>\n      <th>0</th>\n      <td>250.0</td>\n      <td>10.0</td>\n      <td>25.0</td>\n      <td>0.0</td>\n      <td>305.0</td>\n    </tr>\n    <tr>\n      <th>1</th>\n      <td>750.0</td>\n      <td>10.0</td>\n      <td>75.0</td>\n      <td>0.0</td>\n      <td>75.0</td>\n    </tr>\n    <tr>\n      <th>2</th>\n      <td>250.0</td>\n      <td>0.0</td>\n      <td>0.0</td>\n      <td>0.0</td>\n      <td>0.0</td>\n    </tr>\n    <tr>\n      <th>3</th>\n      <td>250.0</td>\n      <td>0.0</td>\n      <td>0.0</td>\n      <td>0.0</td>\n      <td>0.0</td>\n    </tr>\n    <tr>\n      <th>4</th>\n      <td>250.0</td>\n      <td>0.0</td>\n      <td>0.0</td>\n      <td>0.0</td>\n      <td>0.0</td>\n    </tr>\n    <tr>\n      <th>...</th>\n      <td>...</td>\n      <td>...</td>\n      <td>...</td>\n      <td>...</td>\n      <td>...</td>\n    </tr>\n    <tr>\n      <th>250301</th>\n      <td>1000.0</td>\n      <td>0.0</td>\n      <td>0.0</td>\n      <td>0.0</td>\n      <td>0.0</td>\n    </tr>\n    <tr>\n      <th>250302</th>\n      <td>1000.0</td>\n      <td>0.0</td>\n      <td>0.0</td>\n      <td>0.0</td>\n      <td>0.0</td>\n    </tr>\n    <tr>\n      <th>250303</th>\n      <td>1000.0</td>\n      <td>0.0</td>\n      <td>0.0</td>\n      <td>0.0</td>\n      <td>0.0</td>\n    </tr>\n    <tr>\n      <th>250304</th>\n      <td>1000.0</td>\n      <td>0.0</td>\n      <td>0.0</td>\n      <td>0.0</td>\n      <td>0.0</td>\n    </tr>\n    <tr>\n      <th>250305</th>\n      <td>1000.0</td>\n      <td>0.0</td>\n      <td>0.0</td>\n      <td>0.0</td>\n      <td>0.0</td>\n    </tr>\n  </tbody>\n</table>\n<p>250306 rows × 5 columns</p>\n</div>"
     },
     "metadata": {},
     "execution_count": 23
    }
   ],
   "source": [
    "Train_new_data"
   ]
  },
  {
   "cell_type": "code",
   "execution_count": 24,
   "metadata": {},
   "outputs": [
    {
     "output_type": "execute_result",
     "data": {
      "text/plain": [
       "(250305, 5)"
      ]
     },
     "metadata": {},
     "execution_count": 24
    }
   ],
   "source": [
    "Train_new_data = Train_new_data.dropna()\n",
    "Train_new_data.shape"
   ]
  },
  {
   "cell_type": "code",
   "execution_count": 29,
   "metadata": {},
   "outputs": [],
   "source": [
    "data = Train_new_data.drop(['balance_due'], axis= 1)\n",
    "target = Train_new_data['balance_due']\n",
    "trainDT, testDT, trainTRG,testTRG = train_test_split(data, target, test_size=0.3, shuffle=False)"
   ]
  },
  {
   "cell_type": "code",
   "execution_count": 34,
   "metadata": {},
   "outputs": [],
   "source": [
    "lr = LinearRegression()\n",
    "lr.fit(testDT,testTRG)\n",
    "TRG_pred = lr.predict(testDT)"
   ]
  },
  {
   "cell_type": "code",
   "execution_count": 39,
   "metadata": {},
   "outputs": [
    {
     "output_type": "stream",
     "name": "stdout",
     "text": [
      "RMSE = 128.75042367811454\n"
     ]
    }
   ],
   "source": [
    "result = np.sqrt(mean_squared_error(testTRG,TRG_pred))\n",
    "print('RMSE =', result)"
   ]
  },
  {
   "cell_type": "code",
   "execution_count": null,
   "metadata": {},
   "outputs": [],
   "source": []
  }
 ],
 "metadata": {
  "kernelspec": {
   "name": "python386jvsc74a57bd017b176003e5a58299d9d377f93fe2023428afbf220a933b9e6076d6870c707c0",
   "display_name": "Python 3.8.6 32-bit"
  },
  "language_info": {
   "codemirror_mode": {
    "name": "ipython",
    "version": 3
   },
   "file_extension": ".py",
   "mimetype": "text/x-python",
   "name": "python",
   "nbconvert_exporter": "python",
   "pygments_lexer": "ipython3",
   "version": "3.8.6-final"
  },
  "metadata": {
   "interpreter": {
    "hash": "17b176003e5a58299d9d377f93fe2023428afbf220a933b9e6076d6870c707c0"
   }
  }
 },
 "nbformat": 4,
 "nbformat_minor": 2
}