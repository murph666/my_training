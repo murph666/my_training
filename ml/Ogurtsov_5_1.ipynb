{
 "cells": [
  {
   "cell_type": "code",
   "execution_count": 14,
   "metadata": {},
   "outputs": [],
   "source": [
    "import pandas as pd\n",
    "import numpy as np\n",
    "\n",
    "from sklearn.datasets import load_breast_cancer\n",
    "from sklearn.model_selection import train_test_split\n",
    "from sklearn.metrics import f1_score\n",
    "from sklearn.tree import DecisionTreeClassifier\n",
    "\n",
    "import math"
   ]
  },
  {
   "cell_type": "markdown",
   "metadata": {},
   "source": [
    "Все задания выполняются на основе датасета UCI ML Breast Cancer Wisconsin. (https://goo.gl/U2Uwz2)  \n",
    "Все признаки являются числовыми."
   ]
  },
  {
   "cell_type": "code",
   "execution_count": 15,
   "metadata": {},
   "outputs": [],
   "source": [
    "X, y = load_breast_cancer(return_X_y=True)"
   ]
  },
  {
   "cell_type": "code",
   "execution_count": 16,
   "metadata": {},
   "outputs": [],
   "source": [
    "X_train, X_test, y_train, y_test = train_test_split(X, y, random_state=42, test_size=0.2)"
   ]
  },
  {
   "cell_type": "markdown",
   "metadata": {},
   "source": [
    "\n",
    "1) Реализовать функцию подсчета индекса Джини"
   ]
  },
  {
   "cell_type": "code",
   "execution_count": 17,
   "metadata": {},
   "outputs": [],
   "source": [
    "def compute_gini_impurity(labels):\n",
    "    \"\"\"\n",
    "    :arg labels: np.array of shape (n_objects,)\n",
    "    \n",
    "    :return: gini_impurity: float\n",
    "    \"\"\"\n",
    "    unique, counts = np.unique(labels, return_counts=True)\n",
    "\n",
    "    rez = 1\n",
    "    for i in range(len(unique)):\n",
    "        veroatn =  counts[i]/np.sum(counts)\n",
    "        rez = rez - veroatn ** 2\n",
    "\n",
    "    return rez"
   ]
  },
  {
   "cell_type": "markdown",
   "metadata": {},
   "source": [
    "2) Реализовать функцию подсчета энтропии"
   ]
  },
  {
   "cell_type": "code",
   "execution_count": 18,
   "metadata": {},
   "outputs": [],
   "source": [
    "def compute_entropy(labels):\n",
    "    \"\"\"\n",
    "    :arg labels: np.array of shape (n_objects,)\n",
    "    \n",
    "    :return: entropy: float\n",
    "    \"\"\"\n",
    "    unique, counts = np.unique(labels, return_counts=True)\n",
    "\n",
    "    rez = 0\n",
    "    for i in range(len(unique)):\n",
    "        veroatn =  counts[i]/np.sum(counts)\n",
    "        rez = rez - veroatn*math.log2(veroatn)\n",
    "\n",
    "    return rez"
   ]
  },
  {
   "cell_type": "markdown",
   "metadata": {},
   "source": [
    "3) Реализовать функцию подсчета Information Gain"
   ]
  },
  {
   "cell_type": "code",
   "execution_count": 19,
   "metadata": {},
   "outputs": [],
   "source": [
    "def calculate_information_gain(s0, *args):\n",
    "    \"\"\"\n",
    "    Calculates IG for a split s_1, ..., s_k.\n",
    "        :arg s0: the whole set, sequence of shape (n_objects,)\n",
    "        :arg args: split — a list of sequences, such that s0 = union(s_1, ..., s_k) and\n",
    "           for all i, j: intersection(s_i, s_j) = 0\n",
    "           \n",
    "        :return: information_gain: float\n",
    "    \"\"\"\n",
    "    unique_s0, counts_s0 = np.unique(s0, return_counts=True)\n",
    "\n",
    "    unique_args = []\n",
    "    counts_args = []\n",
    "\n",
    "    for i in range(len(args)):\n",
    "        unique_buf, counts_buf = np.unique(args[i], return_counts=True)\n",
    "        unique_args.append(unique_buf)\n",
    "        counts_args.append(counts_buf)\n",
    "\n",
    "    rez = compute_entropy(s0)\n",
    "\n",
    "    for i in range(len(args)):\n",
    "        rez = rez - (np.sum(counts_args[i])/np.sum(counts_s0))*compute_entropy(args[i])\n",
    "\n",
    "    return rez"
   ]
  },
  {
   "cell_type": "code",
   "execution_count": 20,
   "metadata": {},
   "outputs": [
    {
     "data": {
      "text/plain": [
       "0.9182958340544896"
      ]
     },
     "execution_count": 20,
     "metadata": {},
     "output_type": "execute_result"
    }
   ],
   "source": [
    "calculate_information_gain([1, 2, 3, 4, 5, 6], [1, 2, 3, 4], [5, 6])"
   ]
  },
  {
   "cell_type": "markdown",
   "metadata": {},
   "source": [
    "В следующих заданих требуется так или иначе изменить параметры дерева решений и оценить результат.  \n",
    "Как метрику качества будем использовать F1-score. В каждом задании необходимо поменять __только один__ параметр."
   ]
  },
  {
   "cell_type": "code",
   "execution_count": 21,
   "metadata": {},
   "outputs": [],
   "source": [
    "def compute_metric(clf):\n",
    "    np.random.seed(42)\n",
    "    clf.fit(X_train, y_train)\n",
    "    y_test_pred = clf.predict(X_test)\n",
    "    return np.round(f1_score(y_test, y_test_pred), 6)"
   ]
  },
  {
   "cell_type": "markdown",
   "metadata": {},
   "source": [
    "Посчитаем значение метрики со стандартными параметрами."
   ]
  },
  {
   "cell_type": "code",
   "execution_count": 22,
   "metadata": {},
   "outputs": [
    {
     "data": {
      "text/plain": [
       "0.957746"
      ]
     },
     "execution_count": 22,
     "metadata": {},
     "output_type": "execute_result"
    }
   ],
   "source": [
    "compute_metric(DecisionTreeClassifier())"
   ]
  },
  {
   "cell_type": "markdown",
   "metadata": {},
   "source": [
    "4) Добавьте следующее условие: для выполнения сплита должно быть как минимум 22 объекта. Чему равна метрика F1 на отложенной выборке?"
   ]
  },
  {
   "cell_type": "code",
   "execution_count": 23,
   "metadata": {},
   "outputs": [
    {
     "data": {
      "text/plain": [
       "0.951049"
      ]
     },
     "execution_count": 23,
     "metadata": {},
     "output_type": "execute_result"
    }
   ],
   "source": [
    "compute_metric(DecisionTreeClassifier(min_samples_split=22))"
   ]
  },
  {
   "cell_type": "markdown",
   "metadata": {},
   "source": [
    "5) Добавьте следующее условие: в листе должно быть как минимум 10 элементов. Чему равна метрика F1 на отложенной выборке?"
   ]
  },
  {
   "cell_type": "code",
   "execution_count": 27,
   "metadata": {},
   "outputs": [
    {
     "data": {
      "text/plain": [
       "0.957746"
      ]
     },
     "execution_count": 27,
     "metadata": {},
     "output_type": "execute_result"
    }
   ],
   "source": [
    "compute_metric(DecisionTreeClassifier(max_leaf_nodes=10))"
   ]
  },
  {
   "cell_type": "markdown",
   "metadata": {},
   "source": [
    "6) Добавьте следующее условие: в дереве должно быть не более 8 листьев. Чему равна метрика F1 на отложенной выборке?"
   ]
  },
  {
   "cell_type": "code",
   "execution_count": 28,
   "metadata": {},
   "outputs": [
    {
     "data": {
      "text/plain": [
       "0.965035"
      ]
     },
     "execution_count": 28,
     "metadata": {},
     "output_type": "execute_result"
    }
   ],
   "source": [
    "compute_metric(DecisionTreeClassifier(min_samples_leaf=8))"
   ]
  },
  {
   "cell_type": "markdown",
   "metadata": {},
   "source": [
    "7) Добавьте следующее условие: глубина дерева должна быть не более 4. Чему равна метрика F1 на отложенной выборке?"
   ]
  },
  {
   "cell_type": "code",
   "execution_count": 26,
   "metadata": {},
   "outputs": [
    {
     "data": {
      "text/plain": [
       "0.957746"
      ]
     },
     "execution_count": 26,
     "metadata": {},
     "output_type": "execute_result"
    }
   ],
   "source": [
    "compute_metric(DecisionTreeClassifier(max_depth=4))"
   ]
  },
  {
   "cell_type": "markdown",
   "metadata": {},
   "source": [
    "8) При помощи параметра \"class_weight\" выставите веса объектов обратно пропорциональными их частоте в обучающей выборке. Чему стала равна метрика F1 на отложенной выборке?"
   ]
  },
  {
   "cell_type": "code",
   "execution_count": 16,
   "metadata": {},
   "outputs": [
    {
     "data": {
      "text/plain": [
       "0.965035"
      ]
     },
     "execution_count": 16,
     "metadata": {},
     "output_type": "execute_result"
    }
   ],
   "source": [
    "compute_metric(DecisionTreeClassifier(class_weight=\"balanced\"))"
   ]
  },
  {
   "cell_type": "markdown",
   "metadata": {},
   "source": [
    "9) Поменяйте критерий для построения дерева решений на 'entropy', который мы разбирали на теории. Чему стала равна метрика F1 на отложенной выборке?"
   ]
  },
  {
   "cell_type": "code",
   "execution_count": 17,
   "metadata": {},
   "outputs": [
    {
     "data": {
      "text/plain": [
       "0.958904"
      ]
     },
     "execution_count": 17,
     "metadata": {},
     "output_type": "execute_result"
    }
   ],
   "source": [
    "compute_metric(DecisionTreeClassifier(criterion=\"entropy\"))"
   ]
  },
  {
   "cell_type": "markdown",
   "metadata": {},
   "source": [
    "10) Укажите параметр min_samples_split=50. Какая получилась глубина у получившегося дерева? Укажите ее ниже."
   ]
  },
  {
   "cell_type": "code",
   "execution_count": 18,
   "metadata": {},
   "outputs": [
    {
     "data": {
      "text/plain": [
       "0.937931"
      ]
     },
     "execution_count": 18,
     "metadata": {},
     "output_type": "execute_result"
    }
   ],
   "source": [
    "compute_metric(DecisionTreeClassifier(min_samples_split=50))"
   ]
  },
  {
   "cell_type": "markdown",
   "metadata": {},
   "source": [
    "11) Вставьте в код условие, которое выполнит эвристику `min_samples_split`.\n",
    "\n",
    "```python\n",
    "class DecisionTreeClassifier(object):\n",
    "    def __init__(self, max_depth=3, min_samples_split=2, min_samples_leaf=1):\n",
    "        self.max_depth = max_depth\n",
    "        self.min_samples_split = min_samples_split\n",
    "        self.min_samples_leaf = min_samples_leaf\n",
    "        \n",
    "        self.root = None\n",
    "    \n",
    "    def _fit_id3(self, x, y, level):\n",
    "        class_labels = np.unique(y)\n",
    "        # if there is only one class in y then return leaf node\n",
    "        if class_labels.size == 1:\n",
    "            self.n_nodes += 1\n",
    "            return Node(class_label=class_labels[0])\n",
    "\n",
    "        # find the most informative predicate and split by them\n",
    "        beta = Predicate(x, y)\n",
    "        to_left, to_right = beta.split(x, y)\n",
    "\n",
    "        # if one of arrays is empty after split then return leaf node\n",
    "        if (to_left[0].size == 0 or \n",
    "            to_right[0].size == 0 or \n",
    "            level > self.max_depth or\n",
    "            _______________________):\n",
    "            labels, counts = np.unique(y, return_counts=True)\n",
    "            class_label = labels[counts.argmax(axis=0)]\n",
    "            self.n_nodes += 1\n",
    "            return Node(class_label=class_label)\n",
    "\n",
    "        node = Node()\n",
    "        node.set_predicate(beta)\n",
    "\n",
    "        node.set_left(self._fit_id3(to_left[0], to_left[1], level + 1))\n",
    "        node.set_right(self._fit_id3(to_right[0], to_right[1], level + 1))\n",
    "\n",
    "        return node\n",
    "```"
   ]
  },
  {
   "cell_type": "code",
   "execution_count": 19,
   "metadata": {},
   "outputs": [],
   "source": [
    "class DecisionTreeClassifier(object):\n",
    "    def __init__(self, max_depth=3, min_samples_split=2, min_samples_leaf=1):\n",
    "        self.max_depth = max_depth\n",
    "        self.min_samples_split = min_samples_split\n",
    "        self.min_samples_leaf = min_samples_leaf\n",
    "        \n",
    "        self.root = None\n",
    "    \n",
    "    def _fit_id3(self, x, y, level):\n",
    "        class_labels = np.unique(y)\n",
    "        # if there is only one class in y then return leaf node\n",
    "        if class_labels.size == 1:\n",
    "            self.n_nodes += 1\n",
    "            return Node(class_label=class_labels[0])\n",
    "\n",
    "        # find the most informative predicate and split by them\n",
    "        beta = Predicate(x, y)\n",
    "        to_left, to_right = beta.split(x, y)\n",
    "\n",
    "        # if one of arrays is empty after split then return leaf node\n",
    "        if (to_left[0].size == 0 or to_right[0].size == 0 or level > self.max_depth or self.min_samples_split >= 2):\n",
    "            labels, counts = np.unique(y, return_counts=True)\n",
    "            class_label = labels[counts.argmax(axis=0)]\n",
    "            self.n_nodes += 1\n",
    "            return Node(class_label=class_label)\n",
    "\n",
    "        node = Node()\n",
    "        node.set_predicate(beta)\n",
    "\n",
    "        node.set_left(self._fit_id3(to_left[0], to_left[1], level + 1))\n",
    "        node.set_right(self._fit_id3(to_right[0], to_right[1], level + 1))\n",
    "\n",
    "        return node"
   ]
  },
  {
   "cell_type": "markdown",
   "metadata": {},
   "source": [
    "12) Вставьте в код условие, которое выполнит эвристику `min_samples_leaf`.\n",
    "\n",
    "```python\n",
    "class DecisionTreeClassifier(object):\n",
    "    def __init__(self, max_depth=3, min_samples_split=2, min_samples_leaf=1):\n",
    "        self.max_depth = max_depth\n",
    "        self.min_samples_split = min_samples_split\n",
    "        self.min_samples_leaf = min_samples_leaf\n",
    "        \n",
    "        self.root = None\n",
    "    \n",
    "    def _fit_id3(self, x, y, level):\n",
    "        class_labels = np.unique(y)\n",
    "        # if there is only one class in y then return leaf node\n",
    "        if class_labels.size == 1 or ________________:\n",
    "            self.n_nodes += 1\n",
    "            return Node(class_label=class_labels[0])\n",
    "\n",
    "        # find the most informative predicate and split by them\n",
    "        beta = Predicate(x, y)\n",
    "        to_left, to_right = beta.split(x, y)\n",
    "\n",
    "        # if one of arrays is empty after split then return leaf node\n",
    "        if (to_left[0].size == 0 or \n",
    "            to_right[0].size == 0 or \n",
    "            level > self.max_depth):\n",
    "            labels, counts = np.unique(y, return_counts=True)\n",
    "            class_label = labels[counts.argmax(axis=0)]\n",
    "            self.n_nodes += 1\n",
    "            return Node(class_label=class_label)\n",
    "\n",
    "        node = Node()\n",
    "        node.set_predicate(beta)\n",
    "\n",
    "        node.set_left(self._fit_id3(to_left[0], to_left[1], level + 1))\n",
    "        node.set_right(self._fit_id3(to_right[0], to_right[1], level + 1))\n",
    "\n",
    "        return node\n",
    "```"
   ]
  },
  {
   "cell_type": "code",
   "execution_count": 20,
   "metadata": {},
   "outputs": [],
   "source": [
    "class DecisionTreeClassifier(object):\n",
    "    def __init__(self, max_depth=3, min_samples_split=2, min_samples_leaf=1):\n",
    "        self.max_depth = max_depth\n",
    "        self.min_samples_split = min_samples_split\n",
    "        self.min_samples_leaf = min_samples_leaf\n",
    "        \n",
    "        self.root = None\n",
    "    \n",
    "    def _fit_id3(self, x, y, level):\n",
    "        class_labels = np.unique(y)\n",
    "        # if there is only one class in y then return leaf node\n",
    "        if class_labels.size == 1 or min_samples_leaf >= 1:\n",
    "            self.n_nodes += 1\n",
    "            return Node(class_label=class_labels[0])\n",
    "\n",
    "        # find the most informative predicate and split by them\n",
    "        beta = Predicate(x, y)\n",
    "        to_left, to_right = beta.split(x, y)\n",
    "\n",
    "        # if one of arrays is empty after split then return leaf node\n",
    "        if (to_left[0].size == 0 or to_right[0].size == 0 or level > self.max_depth):\n",
    "            labels, counts = np.unique(y, return_counts=True)\n",
    "            class_label = labels[counts.argmax(axis=0)]\n",
    "            self.n_nodes += 1\n",
    "            return Node(class_label=class_label)\n",
    "\n",
    "        node = Node()\n",
    "        node.set_predicate(beta)\n",
    "\n",
    "        node.set_left(self._fit_id3(to_left[0], to_left[1], level + 1))\n",
    "        node.set_right(self._fit_id3(to_right[0], to_right[1], level + 1))\n",
    "\n",
    "        return node"
   ]
  },
  {
   "cell_type": "code",
   "execution_count": null,
   "metadata": {},
   "outputs": [],
   "source": []
  },
  {
   "cell_type": "code",
   "execution_count": null,
   "metadata": {},
   "outputs": [],
   "source": []
  }
 ],
 "metadata": {
  "kernelspec": {
   "display_name": "Python 3",
   "language": "python",
   "name": "python3"
  },
  "language_info": {
   "codemirror_mode": {
    "name": "ipython",
    "version": 3
   },
   "file_extension": ".py",
   "mimetype": "text/x-python",
   "name": "python",
   "nbconvert_exporter": "python",
   "pygments_lexer": "ipython3",
   "version": "3.7.8"
  }
 },
 "nbformat": 4,
 "nbformat_minor": 2
}
