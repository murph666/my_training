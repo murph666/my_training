{
 "cells": [
  {
   "cell_type": "markdown",
   "metadata": {},
   "source": [
    "# Задания по уроку 5.2"
   ]
  },
  {
   "cell_type": "code",
   "execution_count": 2,
   "metadata": {},
   "outputs": [],
   "source": [
    "import pandas as pd\n",
    "import numpy as np\n",
    "\n",
    "from sklearn.datasets import load_breast_cancer\n",
    "from sklearn.model_selection import train_test_split\n",
    "from sklearn.metrics import f1_score\n",
    "from sklearn.ensemble import (RandomForestClassifier, ExtraTreesClassifier,\n",
    "                              RandomTreesEmbedding, VotingClassifier)\n",
    "from sklearn.linear_model import LogisticRegression"
   ]
  },
  {
   "cell_type": "markdown",
   "metadata": {},
   "source": [
    "Все задания выполняются на основе датасета UCI ML Breast Cancer Wisconsin. (https://goo.gl/U2Uwz2)  \n",
    "Все признаки являются числовыми."
   ]
  },
  {
   "cell_type": "code",
   "execution_count": 3,
   "metadata": {},
   "outputs": [],
   "source": [
    "X, y = load_breast_cancer(return_X_y=True)"
   ]
  },
  {
   "cell_type": "code",
   "execution_count": 4,
   "metadata": {},
   "outputs": [],
   "source": [
    "X_train, X_test, y_train, y_test = train_test_split(X, y, random_state=42, test_size=0.2)"
   ]
  },
  {
   "cell_type": "markdown",
   "metadata": {},
   "source": [
    "## Задачи с проверкой кода\n",
    "\n",
    "1) Реализовать функцию нахождения самого частого элемента в массиве (голосование)"
   ]
  },
  {
   "cell_type": "code",
   "execution_count": 4,
   "metadata": {},
   "outputs": [],
   "source": [
    "def get_most_frequent_value(sequence):\n",
    "    # TODO your code here"
   ]
  },
  {
   "cell_type": "code",
   "execution_count": 5,
   "metadata": {},
   "outputs": [
    {
     "data": {
      "text/plain": [
       "3"
      ]
     },
     "execution_count": 5,
     "metadata": {},
     "output_type": "execute_result"
    }
   ],
   "source": [
    "get_most_frequent_value([1, 2, 3, 3, 3, 4, 4])"
   ]
  },
  {
   "cell_type": "markdown",
   "metadata": {},
   "source": [
    "2) Реализовать функцию, выполняющую бутстреп."
   ]
  },
  {
   "cell_type": "code",
   "execution_count": 161,
   "metadata": {},
   "outputs": [],
   "source": [
    "def bootstrap(values, new_dataset_size):\n",
    "    \"\"\"\n",
    "    Creates a new dataset from the old one using bootstrap.\n",
    "    \n",
    "    :arg values: np.array of shape (n_objects, n_features), input objects\n",
    "    :arg new_dataset_size: int, number of elements in the resulting array\n",
    "    \n",
    "    :return: bootstraped_dataset: np.array of shape (new_dataset_size, n_features)\n",
    "    \"\"\"\n",
    "    # TODO your code here\n",
    "    Result_arr = np.empty((0,values.shape[1]), int)\n",
    "    for i in range(new_dataset_size):\n",
    "        Result_arr = np.append(Result_arr, values[np.random.choice(range(0,values.shape[0]),1)], axis = 0)\n",
    "    return Result_arr"
   ]
  },
  {
   "cell_type": "code",
   "execution_count": 163,
   "metadata": {},
   "outputs": [
    {
     "output_type": "stream",
     "name": "stdout",
     "text": [
      "[7 8 9]\n"
     ]
    }
   ],
   "source": [
    "matr = np.array([[1,2,3],[4,5,6],[7,8,9]])"
   ]
  },
  {
   "cell_type": "code",
   "execution_count": 173,
   "metadata": {},
   "outputs": [
    {
     "output_type": "execute_result",
     "data": {
      "text/plain": [
       "array([[1, 2, 3],\n",
       "       [7, 8, 9],\n",
       "       [4, 5, 6],\n",
       "       [4, 5, 6],\n",
       "       [7, 8, 9]])"
      ]
     },
     "metadata": {},
     "execution_count": 173
    }
   ],
   "source": [
    "bootstrap(matr, 5)"
   ]
  },
  {
   "cell_type": "markdown",
   "metadata": {},
   "source": [
    "3) Реализовать фукнцию для подсчета произвольной метрики из Scikit-Learn в режиме OOB. Подсказка: `oob_decision_function_`"
   ]
  },
  {
   "cell_type": "code",
   "execution_count": 8,
   "metadata": {},
   "outputs": [],
   "source": [
    "# Write-up\n",
    "def estimate_oob_metric(forest, metric):\n",
    "    \"\"\"\n",
    "    Computes any classification metric in the out-of-bag mode.\n",
    "        :arg forest: Scikit-Learn ensemble model\n",
    "        :arg metric: callable with two arguments that returns a float\n",
    "        \n",
    "        :return oob_metric_value: float\n",
    "    \"\"\"\n",
    "    # TODO your code here"
   ]
  },
  {
   "cell_type": "code",
   "execution_count": 9,
   "metadata": {},
   "outputs": [
    {
     "data": {
      "text/plain": [
       "0.9738219895287957"
      ]
     },
     "execution_count": 9,
     "metadata": {},
     "output_type": "execute_result"
    }
   ],
   "source": [
    "estimate_oob_metric(forest, f1_score)"
   ]
  },
  {
   "cell_type": "markdown",
   "metadata": {},
   "source": [
    "## Задачи с проверкой ответа"
   ]
  },
  {
   "cell_type": "markdown",
   "metadata": {},
   "source": [
    "В следующих заданих требуется так или иначе изменить параметры дерева решений и оценить результат.  \n",
    "Как метрику качества будем использовать F1-score. В каждом задании необходимо поменять __только один__ параметр.  \n",
    "\n",
    "Случайный лес — стохастический алгоритм, а значит при каждом запуске может выдавать различный результат. В дальнейших задачах __необходимо__ выставить случайность: добавить параметр `random_state=8` как аргумент при создании ансамблей."
   ]
  },
  {
   "cell_type": "code",
   "execution_count": 10,
   "metadata": {},
   "outputs": [],
   "source": [
    "def compute_metric(clf, X_train=X_train, y_train=y_train,\n",
    "                   X_test=X_test, y_test=y_test):\n",
    "    np.random.seed(42)\n",
    "    clf.fit(X_train, y_train)\n",
    "    y_test_pred = clf.predict(X_test)\n",
    "    return np.round(f1_score(y_test, y_test_pred), 6)"
   ]
  },
  {
   "cell_type": "markdown",
   "metadata": {},
   "source": [
    "Посчитаем значение метрики со стандартными параметрами."
   ]
  },
  {
   "cell_type": "code",
   "execution_count": 11,
   "metadata": {},
   "outputs": [
    {
     "data": {
      "text/plain": [
       "0.972222"
      ]
     },
     "execution_count": 11,
     "metadata": {},
     "output_type": "execute_result"
    }
   ],
   "source": [
    "forest = RandomForestClassifier(random_state=8)\n",
    "compute_metric(forest)"
   ]
  },
  {
   "cell_type": "markdown",
   "metadata": {},
   "source": [
    "1) Напишите индекс самого важного признака по мнению случайного леса. Важности признаков указаны в переменной feature_importances_ случайного леса."
   ]
  },
  {
   "cell_type": "code",
   "execution_count": null,
   "metadata": {},
   "outputs": [],
   "source": []
  },
  {
   "cell_type": "markdown",
   "metadata": {},
   "source": [
    "2) Увеличьте количество в случайном лесе до 100. Как изменилось качество? Укажите его."
   ]
  },
  {
   "cell_type": "code",
   "execution_count": null,
   "metadata": {},
   "outputs": [],
   "source": []
  },
  {
   "cell_type": "markdown",
   "metadata": {},
   "source": [
    "3) Выставите количество деревьев в лесе равным 100 и включите режим подсчета out-of-bag score. Укажите полученное значение метрики accuracy, округленного до 6 знака после запятой."
   ]
  },
  {
   "cell_type": "code",
   "execution_count": null,
   "metadata": {},
   "outputs": [],
   "source": []
  },
  {
   "cell_type": "markdown",
   "metadata": {},
   "source": [
    "4) Выключите режим random subspaces в случайном лесе. Укажите качество."
   ]
  },
  {
   "cell_type": "code",
   "execution_count": null,
   "metadata": {},
   "outputs": [],
   "source": []
  },
  {
   "cell_type": "markdown",
   "metadata": {},
   "source": [
    "5) Выключите режим бутстрапа и переобучите случайный лес. Укажите качество."
   ]
  },
  {
   "cell_type": "code",
   "execution_count": null,
   "metadata": {},
   "outputs": [],
   "source": []
  },
  {
   "cell_type": "markdown",
   "metadata": {},
   "source": [
    "6) Какая средняя глубина у деревьев, которые получаются в случайном лесе со стандартными параметрами при его обучении на этой обучающей выборке?"
   ]
  },
  {
   "cell_type": "code",
   "execution_count": null,
   "metadata": {},
   "outputs": [],
   "source": []
  },
  {
   "cell_type": "markdown",
   "metadata": {},
   "source": [
    "Помимо важностей, которые можно определить встроенным в Scikit-Learn способом, существует еще парочка других, основанных на модификации признаков. Некоторые из них находятся в библиотеке `rfpimp`:"
   ]
  },
  {
   "cell_type": "code",
   "execution_count": 17,
   "metadata": {},
   "outputs": [
    {
     "name": "stdout",
     "output_type": "stream",
     "text": [
      "Requirement already satisfied: rfpimp in /Users/anton/miniconda3/lib/python3.6/site-packages (1.3.4)\n",
      "Requirement already satisfied: pandas in /Users/anton/miniconda3/lib/python3.6/site-packages (from rfpimp) (0.23.1)\n",
      "Requirement already satisfied: numpy in /Users/anton/miniconda3/lib/python3.6/site-packages (from rfpimp) (1.16.4)\n",
      "Requirement already satisfied: sklearn in /Users/anton/miniconda3/lib/python3.6/site-packages (from rfpimp) (0.0)\n",
      "Requirement already satisfied: matplotlib in /Users/anton/miniconda3/lib/python3.6/site-packages (from rfpimp) (3.1.0)\n",
      "Requirement already satisfied: pytz>=2011k in /Users/anton/miniconda3/lib/python3.6/site-packages (from pandas->rfpimp) (2019.1)\n",
      "Requirement already satisfied: python-dateutil>=2.5.0 in /Users/anton/miniconda3/lib/python3.6/site-packages (from pandas->rfpimp) (2.8.0)\n",
      "Requirement already satisfied: scikit-learn in /Users/anton/miniconda3/lib/python3.6/site-packages (from sklearn->rfpimp) (0.19.1)\n",
      "Requirement already satisfied: cycler>=0.10 in /Users/anton/miniconda3/lib/python3.6/site-packages (from matplotlib->rfpimp) (0.10.0)\n",
      "Requirement already satisfied: kiwisolver>=1.0.1 in /Users/anton/miniconda3/lib/python3.6/site-packages (from matplotlib->rfpimp) (1.1.0)\n",
      "Requirement already satisfied: pyparsing!=2.0.4,!=2.1.2,!=2.1.6,>=2.0.1 in /Users/anton/miniconda3/lib/python3.6/site-packages (from matplotlib->rfpimp) (2.4.0)\n",
      "Requirement already satisfied: six>=1.5 in /Users/anton/miniconda3/lib/python3.6/site-packages (from python-dateutil>=2.5.0->pandas->rfpimp) (1.12.0)\n",
      "Requirement already satisfied: setuptools in /Users/anton/miniconda3/lib/python3.6/site-packages (from kiwisolver>=1.0.1->matplotlib->rfpimp) (41.0.1)\n"
     ]
    }
   ],
   "source": [
    "! pip install rfpimp"
   ]
  },
  {
   "cell_type": "markdown",
   "metadata": {},
   "source": [
    "7) При помощи библиотеки rfpimp определите индекс самого важного признака методом drop-column importance. Как классификатор используйте случайный лес со стандартными настройками.  \n",
    "Важность необходимо оценить по __отложенной__ выборке."
   ]
  },
  {
   "cell_type": "code",
   "execution_count": null,
   "metadata": {},
   "outputs": [],
   "source": []
  },
  {
   "cell_type": "markdown",
   "metadata": {},
   "source": [
    "8) При помощи библиотеки rfpimp определите индекс самого важного признака методом column-permutation importance. Как классификатор используйте случайный лес со стандартными настройками.  \n",
    "Важность необходимо оценить по __подвыборке__ обучающей выборки (сэмплирование выполняется автоматически внутри библиотеки)"
   ]
  },
  {
   "cell_type": "code",
   "execution_count": null,
   "metadata": {},
   "outputs": [],
   "source": []
  },
  {
   "cell_type": "markdown",
   "metadata": {},
   "source": [
    "9) Мы познакомились со случайным лесом, который комбинирует бутстрап и random subspaces. Теперь познакомимся с методом, который добавляет еще один уровень случайности — экстремальные деревься (Extra Trees). В этом методе сплиты при построении деревьев строятся случайным образом. Замените RandomForestClassifier на ExtraTreesClassifier с такими же настройками. Укажите полученное качество ниже."
   ]
  },
  {
   "cell_type": "code",
   "execution_count": null,
   "metadata": {},
   "outputs": [],
   "source": []
  },
  {
   "cell_type": "markdown",
   "metadata": {},
   "source": [
    "10) Познакомимся с Random Trees Embedding — преобразованием, которое отображает объекты в новое пространство признаков. Оно выполняется при помощи построения Extra Trees. Новое пространство признаков — пространство векторов, которые равны по длине количеству листьев деревьев всего леса. Для каждого объекта в этом векторе проставляется единица, если объект попал в лист при выполнении предсказания решающим деревом. Примените его для преобразования признаков, а затем поверх этих признаков обучите логистическую регрессию. Какое получилось качество? Измерьте его функцией `compute_metric`, выставив необходимые аргументы."
   ]
  },
  {
   "cell_type": "code",
   "execution_count": null,
   "metadata": {},
   "outputs": [],
   "source": []
  },
  {
   "cell_type": "markdown",
   "metadata": {},
   "source": [
    "11) Объедините hard голосованием случайный лес, extra trees и логистическую регрессию. Для этого можно воспользоваться классом VotingClassifier. Укажите полученное качество."
   ]
  },
  {
   "cell_type": "code",
   "execution_count": null,
   "metadata": {},
   "outputs": [],
   "source": []
  },
  {
   "cell_type": "markdown",
   "metadata": {},
   "source": [
    "12) Объедините soft голосованием случайный лес, extra trees и логистическую регрессию. Укажите полученное качество."
   ]
  },
  {
   "cell_type": "code",
   "execution_count": null,
   "metadata": {},
   "outputs": [],
   "source": []
  },
  {
   "cell_type": "markdown",
   "metadata": {},
   "source": [
    "13) Объедините с весами `[0.8, 0.2]` soft голосованием extra trees и логистическую регрессию. Укажите полученное качество."
   ]
  },
  {
   "cell_type": "code",
   "execution_count": null,
   "metadata": {},
   "outputs": [],
   "source": []
  }
 ],
 "metadata": {
  "kernelspec": {
   "name": "python386jvsc74a57bd017b176003e5a58299d9d377f93fe2023428afbf220a933b9e6076d6870c707c0",
   "display_name": "Python 3.8.6 32-bit"
  },
  "language_info": {
   "codemirror_mode": {
    "name": "ipython",
    "version": 3
   },
   "file_extension": ".py",
   "mimetype": "text/x-python",
   "name": "python",
   "nbconvert_exporter": "python",
   "pygments_lexer": "ipython3",
   "version": "3.8.6-final"
  },
  "metadata": {
   "interpreter": {
    "hash": "17b176003e5a58299d9d377f93fe2023428afbf220a933b9e6076d6870c707c0"
   }
  }
 },
 "nbformat": 4,
 "nbformat_minor": 2
}