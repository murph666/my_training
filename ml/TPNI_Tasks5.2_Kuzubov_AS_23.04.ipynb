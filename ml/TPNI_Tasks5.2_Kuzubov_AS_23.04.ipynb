{
 "cells": [
  {
   "cell_type": "markdown",
   "metadata": {},
   "source": [
    "# Задания по уроку 5.2"
   ]
  },
  {
   "cell_type": "code",
   "execution_count": 1,
   "metadata": {},
   "outputs": [],
   "source": [
    "import pandas as pd\n",
    "import numpy as np\n",
    "\n",
    "from sklearn.datasets import load_breast_cancer\n",
    "from sklearn.model_selection import train_test_split\n",
    "from sklearn.metrics import f1_score\n",
    "from sklearn.ensemble import (RandomForestClassifier, ExtraTreesClassifier,\n",
    "                              RandomTreesEmbedding, VotingClassifier)\n",
    "from sklearn.linear_model import LogisticRegression"
   ]
  },
  {
   "cell_type": "markdown",
   "metadata": {},
   "source": [
    "Все задания выполняются на основе датасета UCI ML Breast Cancer Wisconsin. (https://goo.gl/U2Uwz2)  \n",
    "Все признаки являются числовыми."
   ]
  },
  {
   "cell_type": "code",
   "execution_count": 2,
   "metadata": {},
   "outputs": [],
   "source": [
    "X, y = load_breast_cancer(return_X_y=True)"
   ]
  },
  {
   "cell_type": "code",
   "execution_count": 3,
   "metadata": {},
   "outputs": [],
   "source": [
    "X_train, X_test, y_train, y_test = train_test_split(X, y, random_state=42, test_size=0.2)"
   ]
  },
  {
   "cell_type": "markdown",
   "metadata": {},
   "source": [
    "## Задачи с проверкой кода\n",
    "\n",
    "1) Реализовать функцию нахождения самого частого элемента в массиве (голосование)"
   ]
  },
  {
   "cell_type": "code",
   "execution_count": 4,
   "metadata": {},
   "outputs": [],
   "source": [
    "def get_most_frequent_value(sequence):\n",
    "    unique, counts = np.unique(sequence, return_counts=True)\n",
    "    d = dict(zip(unique, counts))\n",
    "    i = list(d.values()).index(max(counts))\n",
    "\n",
    "    return list(d.keys())[i]"
   ]
  },
  {
   "cell_type": "code",
   "execution_count": 5,
   "metadata": {},
   "outputs": [
    {
     "output_type": "execute_result",
     "data": {
      "text/plain": [
       "3"
      ]
     },
     "metadata": {},
     "execution_count": 5
    }
   ],
   "source": [
    "get_most_frequent_value([1, 2, 3, 3, 3, 4, 4])"
   ]
  },
  {
   "cell_type": "markdown",
   "metadata": {},
   "source": [
    "2) Реализовать функцию, выполняющую бутстреп."
   ]
  },
  {
   "cell_type": "code",
   "execution_count": 6,
   "metadata": {},
   "outputs": [],
   "source": [
    "def bootstrap(values, new_dataset_size):\n",
    "    \"\"\"\n",
    "    Creates a new dataset from the old one using bootstrap.\n",
    "    \n",
    "    :arg values: np.array of shape (n_objects, n_features), input objects\n",
    "    :arg new_dataset_size: int, number of elements in the resulting array\n",
    "    \n",
    "    :return: bootstraped_dataset: np.array of shape (new_dataset_size, n_features)\n",
    "    \"\"\"\n",
    "    # TODO your code here\n",
    "    Result_arr = np.empty((0,values.shape[1]), int)\n",
    "    for i in range(new_dataset_size):\n",
    "        Result_arr = np.append(Result_arr, values[np.random.choice(range(0,values.shape[0]),1)], axis = 0)\n",
    "    return Result_arr"
   ]
  },
  {
   "cell_type": "code",
   "execution_count": 7,
   "metadata": {},
   "outputs": [],
   "source": [
    "matr = np.array([[1,2,3],[4,5,6],[7,8,9]])"
   ]
  },
  {
   "cell_type": "code",
   "execution_count": 8,
   "metadata": {},
   "outputs": [
    {
     "output_type": "execute_result",
     "data": {
      "text/plain": [
       "array([[4, 5, 6],\n",
       "       [1, 2, 3],\n",
       "       [4, 5, 6],\n",
       "       [7, 8, 9],\n",
       "       [1, 2, 3]])"
      ]
     },
     "metadata": {},
     "execution_count": 8
    }
   ],
   "source": [
    "bootstrap(matr, 5)"
   ]
  },
  {
   "cell_type": "markdown",
   "metadata": {},
   "source": [
    "3) Реализовать фукнцию для подсчета произвольной метрики из Scikit-Learn в режиме OOB. Подсказка: `oob_decision_function_`"
   ]
  },
  {
   "cell_type": "code",
   "execution_count": 10,
   "metadata": {},
   "outputs": [],
   "source": [
    "# Write-up\n",
    "def estimate_oob_metric(forest, metric):\n",
    "    \"\"\"\n",
    "    Computes any classification metric in the out-of-bag mode.\n",
    "        :arg forest: Scikit-Learn ensemble model\n",
    "        :arg metric: callable with two arguments that returns a float\n",
    "        \n",
    "        :return oob_metric_value: float\n",
    "    \"\"\"\n",
    "    return forest.oob_score_"
   ]
  },
  {
   "cell_type": "code",
   "execution_count": 11,
   "metadata": {},
   "outputs": [
    {
     "output_type": "execute_result",
     "data": {
      "text/plain": [
       "0.967032967032967"
      ]
     },
     "metadata": {},
     "execution_count": 11
    }
   ],
   "source": [
    "forest = RandomForestClassifier(n_estimators=100, max_depth=8, criterion='entropy', oob_score=True, random_state=42)\n",
    "forest.fit(X_train, y_train)\n",
    "y_pred = forest.predict(X_train)\n",
    "f1 = f1_score(y_train, y_pred)\n",
    "\n",
    "estimate_oob_metric(forest, f1)"
   ]
  },
  {
   "cell_type": "markdown",
   "metadata": {},
   "source": [
    "## Задачи с проверкой ответа"
   ]
  },
  {
   "cell_type": "markdown",
   "metadata": {},
   "source": [
    "В следующих заданих требуется так или иначе изменить параметры дерева решений и оценить результат.  \n",
    "Как метрику качества будем использовать F1-score. В каждом задании необходимо поменять __только один__ параметр.  \n",
    "\n",
    "Случайный лес — стохастический алгоритм, а значит при каждом запуске может выдавать различный результат. В дальнейших задачах __необходимо__ выставить случайность: добавить параметр `random_state=8` как аргумент при создании ансамблей."
   ]
  },
  {
   "cell_type": "code",
   "execution_count": 12,
   "metadata": {},
   "outputs": [],
   "source": [
    "def compute_metric(clf, X_train=X_train, y_train=y_train,\n",
    "                   X_test=X_test, y_test=y_test):\n",
    "    np.random.seed(42)\n",
    "    clf.fit(X_train, y_train)\n",
    "    y_test_pred = clf.predict(X_test)\n",
    "    return np.round(f1_score(y_test, y_test_pred), 6)"
   ]
  },
  {
   "cell_type": "markdown",
   "metadata": {},
   "source": [
    "Посчитаем значение метрики со стандартными параметрами."
   ]
  },
  {
   "cell_type": "code",
   "execution_count": 13,
   "metadata": {},
   "outputs": [
    {
     "output_type": "execute_result",
     "data": {
      "text/plain": [
       "0.965035"
      ]
     },
     "metadata": {},
     "execution_count": 13
    }
   ],
   "source": [
    "forest = RandomForestClassifier(random_state=8)\n",
    "compute_metric(forest)"
   ]
  },
  {
   "cell_type": "markdown",
   "metadata": {},
   "source": [
    "1) Напишите индекс самого важного признака по мнению случайного леса. Важности признаков указаны в переменной feature_importances_ случайного леса."
   ]
  },
  {
   "cell_type": "code",
   "execution_count": 23,
   "metadata": {},
   "outputs": [
    {
     "output_type": "stream",
     "name": "stdout",
     "text": [
      "Важность признаков: [0.04697058 0.01525873 0.05493599 0.0425965  0.0067247  0.01454576\n 0.0713846  0.07780402 0.00351887 0.00447667 0.01115337 0.00470187\n 0.01441008 0.02642848 0.00383245 0.00472714 0.00365893 0.00463324\n 0.00478218 0.00542557 0.12163477 0.02637191 0.12802428 0.10325599\n 0.01185224 0.01798744 0.03950645 0.10840577 0.015183   0.00580841]\nИндекс самого важного признака: 22\n"
     ]
    }
   ],
   "source": [
    "forest = RandomForestClassifier()\n",
    "forest.fit(X_train, y_train)\n",
    "print('Важность признаков:', forest.feature_importances_)\n",
    "max_value = max(forest.feature_importances_)\n",
    "print('Индекс самого важного признака:', list(forest.feature_importances_).index(max_value))"
   ]
  },
  {
   "cell_type": "markdown",
   "metadata": {},
   "source": [
    "2) Увеличьте количество в случайном лесе до 100. Как изменилось качество? Укажите его."
   ]
  },
  {
   "cell_type": "code",
   "execution_count": 24,
   "metadata": {},
   "outputs": [
    {
     "output_type": "execute_result",
     "data": {
      "text/plain": [
       "0.965035"
      ]
     },
     "metadata": {},
     "execution_count": 24
    }
   ],
   "source": [
    "forest = RandomForestClassifier(random_state=8, n_estimators=100)\n",
    "compute_metric(forest)"
   ]
  },
  {
   "cell_type": "markdown",
   "metadata": {},
   "source": [
    "3) Выставите количество деревьев в лесе равным 100 и включите режим подсчета out-of-bag score. Укажите полученное значение метрики accuracy, округленного до 6 знака после запятой."
   ]
  },
  {
   "cell_type": "code",
   "execution_count": 27,
   "metadata": {},
   "outputs": [],
   "source": [
    "def calc_accuracy(y_true, y_pred):\n",
    "    P = np.sum(y_true == 1)\n",
    "    N = np.sum(y_true == 0)\n",
    "    TP = np.sum((y_true == 1) & (y_pred == 1))\n",
    "    TN = np.sum((y_true == 0) & (y_pred == 0))\n",
    "    acc = (TP + TN) / (P + N)\n",
    "    \n",
    "    return acc"
   ]
  },
  {
   "cell_type": "code",
   "execution_count": 29,
   "metadata": {},
   "outputs": [
    {
     "output_type": "stream",
     "name": "stdout",
     "text": [
      "acc = 100.0%\n"
     ]
    }
   ],
   "source": [
    "forest = RandomForestClassifier(random_state=8, n_estimators=100, oob_score=True)\n",
    "forest.fit(X_train, y_train)\n",
    "y_pred = forest.predict(X_train)\n",
    "acc = calc_accuracy(y_train, y_pred)\n",
    "print('acc = {}%'.format(acc * 100))"
   ]
  },
  {
   "cell_type": "markdown",
   "metadata": {},
   "source": [
    "4) Выключите режим random subspaces в случайном лесе. Укажите качество."
   ]
  },
  {
   "cell_type": "code",
   "execution_count": 30,
   "metadata": {},
   "outputs": [
    {
     "output_type": "execute_result",
     "data": {
      "text/plain": [
       "0.972222"
      ]
     },
     "metadata": {},
     "execution_count": 30
    }
   ],
   "source": [
    "forest = RandomForestClassifier(n_estimators=100, oob_score=True)\n",
    "compute_metric(forest)"
   ]
  },
  {
   "cell_type": "markdown",
   "metadata": {},
   "source": [
    "5) Выключите режим бутстрапа и переобучите случайный лес. Укажите качество."
   ]
  },
  {
   "cell_type": "code",
   "execution_count": 31,
   "metadata": {},
   "outputs": [
    {
     "output_type": "execute_result",
     "data": {
      "text/plain": [
       "0.965035"
      ]
     },
     "metadata": {},
     "execution_count": 31
    }
   ],
   "source": [
    "forest = RandomForestClassifier(n_estimators=100, bootstrap=False)\n",
    "compute_metric(forest)"
   ]
  },
  {
   "cell_type": "markdown",
   "metadata": {},
   "source": [
    "6) Какая средняя глубина у деревьев, которые получаются в случайном лесе со стандартными параметрами при его обучении на этой обучающей выборке?"
   ]
  },
  {
   "cell_type": "code",
   "execution_count": 38,
   "metadata": {},
   "outputs": [
    {
     "output_type": "stream",
     "name": "stdout",
     "text": [
      "Средняя глубина деревьев леса = 9.0\n"
     ]
    }
   ],
   "source": [
    "sum_depth = 0\n",
    "forest = RandomForestClassifier()\n",
    "forest.fit(X_train, y_train)\n",
    "for i in range(forest.n_estimators):\n",
    "    sum_depth += forest.estimators_[0].tree_.max_depth\n",
    "print('Средняя глубина деревьев леса =', sum_depth/forest.n_estimators)"
   ]
  },
  {
   "cell_type": "code",
   "execution_count": null,
   "metadata": {},
   "outputs": [],
   "source": []
  }
 ],
 "metadata": {
  "kernelspec": {
   "name": "python386jvsc74a57bd017b176003e5a58299d9d377f93fe2023428afbf220a933b9e6076d6870c707c0",
   "display_name": "Python 3.8.6 32-bit"
  },
  "language_info": {
   "codemirror_mode": {
    "name": "ipython",
    "version": 3
   },
   "file_extension": ".py",
   "mimetype": "text/x-python",
   "name": "python",
   "nbconvert_exporter": "python",
   "pygments_lexer": "ipython3",
   "version": "3.8.6-final"
  },
  "metadata": {
   "interpreter": {
    "hash": "17b176003e5a58299d9d377f93fe2023428afbf220a933b9e6076d6870c707c0"
   }
  }
 },
 "nbformat": 4,
 "nbformat_minor": 2
}