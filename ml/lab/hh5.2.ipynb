{
 "cells": [
  {
   "cell_type": "markdown",
   "metadata": {},
   "source": [
    "# Задания по уроку 5.2"
   ]
  },
  {
   "cell_type": "code",
   "execution_count": 1,
   "metadata": {},
   "outputs": [],
   "source": [
    "import pandas as pd\n",
    "import numpy as np\n",
    "import itertools\n",
    "\n",
    "from sklearn.datasets import load_breast_cancer\n",
    "from sklearn.model_selection import train_test_split\n",
    "from sklearn.metrics import f1_score\n",
    "from sklearn.ensemble import (RandomForestClassifier, ExtraTreesClassifier,\n",
    "                              RandomTreesEmbedding, VotingClassifier)\n",
    "from sklearn.linear_model import LogisticRegression\n"
   ]
  },
  {
   "cell_type": "markdown",
   "metadata": {},
   "source": [
    "Все задания выполняются на основе датасета UCI ML Breast Cancer Wisconsin. (https://goo.gl/U2Uwz2)  \n",
    "Все признаки являются числовыми."
   ]
  },
  {
   "cell_type": "code",
   "execution_count": 2,
   "metadata": {},
   "outputs": [],
   "source": [
    "X, y = load_breast_cancer(return_X_y=True)"
   ]
  },
  {
   "cell_type": "code",
   "execution_count": 3,
   "metadata": {},
   "outputs": [],
   "source": [
    "X_train, X_test, y_train, y_test = train_test_split(X, y, random_state=42, test_size=0.2)"
   ]
  },
  {
   "cell_type": "markdown",
   "metadata": {},
   "source": [
    "## Задачи с проверкой кода\n",
    "\n",
    "1) Реализовать функцию нахождения самого частого элемента в массиве (голосование)"
   ]
  },
  {
   "cell_type": "code",
   "execution_count": 4,
   "metadata": {},
   "outputs": [],
   "source": [
    "def get_most_frequent_value(sequence):\n",
    "    return max(set(sequence), key = sequence.count)"
   ]
  },
  {
   "cell_type": "code",
   "execution_count": 5,
   "metadata": {},
   "outputs": [
    {
     "data": {
      "text/plain": [
       "3"
      ]
     },
     "execution_count": 5,
     "metadata": {},
     "output_type": "execute_result"
    }
   ],
   "source": [
    "get_most_frequent_value([1, 2, 3, 3, 3, 4, 4])"
   ]
  },
  {
   "cell_type": "markdown",
   "metadata": {},
   "source": [
    "2) Реализовать функцию, выполняющую бутстреп."
   ]
  },
  {
   "cell_type": "code",
   "execution_count": 6,
   "metadata": {},
   "outputs": [],
   "source": [
    "def bootstrap(values, new_dataset_size):\n",
    "    \"\"\"\n",
    "    Creates a new dataset from the old one using bootstrap.\n",
    "    \n",
    "    :arg values: np.array of shape (n_objects, n_features), input objects\n",
    "    :arg new_dataset_size: int, number of elements in the resulting array\n",
    "    \n",
    "    :return: bootstraped_dataset: np.array of shape (new_dataset_size, n_features)\n",
    "    \"\"\"\n",
    "    indices = np.random.randint(0, len(values), (new_dataset_size, len(data)))\n",
    "    bootstraped_dataset = data[indices]\n",
    "    return bootstraped_dataset"
   ]
  },
  {
   "cell_type": "markdown",
   "metadata": {},
   "source": [
    "3) Реализовать фукнцию для подсчета произвольной метрики из Scikit-Learn в режиме OOB. Подсказка: `oob_decision_function_`"
   ]
  },
  {
   "cell_type": "code",
   "execution_count": 7,
   "metadata": {},
   "outputs": [],
   "source": [
    "# Write-up\n",
    "def estimate_oob_metric(forest, metric):\n",
    "    \"\"\"\n",
    "    Computes any classification metric in the out-of-bag mode.\n",
    "        :arg forest: Scikit-Learn ensemble model\n",
    "        :arg metric: callable with two arguments that returns a float\n",
    "        \n",
    "        :return oob_metric_value: float\n",
    "    \"\"\"\n",
    "    return forest.oob_score_ "
   ]
  },
  {
   "cell_type": "code",
   "execution_count": 8,
   "metadata": {},
   "outputs": [],
   "source": [
    "forest = RandomForestClassifier(n_estimators=100, max_depth=8, criterion='entropy', oob_score=True, random_state=42)\n",
    "forest.fit(X_train, y_train)\n",
    "y_pred = forest.predict(X_train)\n",
    "f1 = f1_score(y_train, y_pred)"
   ]
  },
  {
   "cell_type": "code",
   "execution_count": 9,
   "metadata": {},
   "outputs": [
    {
     "data": {
      "text/plain": [
       "0.967032967032967"
      ]
     },
     "execution_count": 9,
     "metadata": {},
     "output_type": "execute_result"
    }
   ],
   "source": [
    "estimate_oob_metric(forest, f1_score)"
   ]
  },
  {
   "cell_type": "markdown",
   "metadata": {},
   "source": [
    "## Задачи с проверкой ответа"
   ]
  },
  {
   "cell_type": "markdown",
   "metadata": {},
   "source": [
    "В следующих заданих требуется так или иначе изменить параметры дерева решений и оценить результат.  \n",
    "Как метрику качества будем использовать F1-score. В каждом задании необходимо поменять __только один__ параметр.  \n",
    "\n",
    "Случайный лес — стохастический алгоритм, а значит при каждом запуске может выдавать различный результат. В дальнейших задачах __необходимо__ выставить случайность: добавить параметр `random_state=8` как аргумент при создании ансамблей."
   ]
  },
  {
   "cell_type": "code",
   "execution_count": 10,
   "metadata": {},
   "outputs": [],
   "source": [
    "def compute_metric(clf, X_train=X_train, y_train=y_train,\n",
    "                   X_test=X_test, y_test=y_test):\n",
    "    np.random.seed(42)\n",
    "    clf.fit(X_train, y_train)\n",
    "    y_test_pred = clf.predict(X_test)\n",
    "    return np.round(f1_score(y_test, y_test_pred), 6)"
   ]
  },
  {
   "cell_type": "markdown",
   "metadata": {},
   "source": [
    "Посчитаем значение метрики со стандартными параметрами."
   ]
  },
  {
   "cell_type": "code",
   "execution_count": 11,
   "metadata": {},
   "outputs": [
    {
     "data": {
      "text/plain": [
       "0.965035"
      ]
     },
     "execution_count": 11,
     "metadata": {},
     "output_type": "execute_result"
    }
   ],
   "source": [
    "forest = RandomForestClassifier(random_state=8)\n",
    "compute_metric(forest)"
   ]
  },
  {
   "cell_type": "markdown",
   "metadata": {},
   "source": [
    "1) Напишите индекс самого важного признака по мнению случайного леса. Важности признаков указаны в переменной feature_importances_ случайного леса."
   ]
  },
  {
   "cell_type": "code",
   "execution_count": 12,
   "metadata": {},
   "outputs": [
    {
     "name": "stdout",
     "output_type": "stream",
     "text": [
      "Важность признаков: [0.04870337 0.01359088 0.05326975 0.04755501 0.00728533 0.01394433\n",
      " 0.06800084 0.10620999 0.00377029 0.00388577 0.02013892 0.00472399\n",
      " 0.01130301 0.02240696 0.00427091 0.00525322 0.00938583 0.00351326\n",
      " 0.00401842 0.00532146 0.07798688 0.02174901 0.06711483 0.15389236\n",
      " 0.01064421 0.02026604 0.0318016  0.14466327 0.01012018 0.00521012]\n",
      "Максимальное значение: 0.15389236463205394\n",
      "Индекс: 23\n"
     ]
    }
   ],
   "source": [
    "forest = RandomForestClassifier()\n",
    "forest.fit(X_train, y_train)\n",
    "print('Важность признаков:', forest.feature_importances_)\n",
    "max_value = max(forest.feature_importances_)\n",
    "print('Максимальное значение:', max_value)\n",
    "indx = list(forest.feature_importances_).index(max_value)\n",
    "print('Индекс:', indx)"
   ]
  },
  {
   "cell_type": "markdown",
   "metadata": {},
   "source": [
    "2) Увеличьте количество в случайном лесе до 100. Как изменилось качество? Укажите его."
   ]
  },
  {
   "cell_type": "code",
   "execution_count": 13,
   "metadata": {},
   "outputs": [
    {
     "data": {
      "text/plain": [
       "0.965035"
      ]
     },
     "execution_count": 13,
     "metadata": {},
     "output_type": "execute_result"
    }
   ],
   "source": [
    "forest = RandomForestClassifier(random_state=8, n_estimators=100)\n",
    "compute_metric(forest)"
   ]
  },
  {
   "cell_type": "markdown",
   "metadata": {},
   "source": [
    "3) Выставите количество деревьев в лесе равным 100 и включите режим подсчета out-of-bag score. Укажите полученное значение метрики accuracy, округленного до 6 знака после запятой."
   ]
  },
  {
   "cell_type": "code",
   "execution_count": 14,
   "metadata": {},
   "outputs": [],
   "source": [
    "def calc_accuracy(y_true, y_pred):\n",
    "    P = np.sum(y_true == 1)\n",
    "    N = np.sum(y_true == 0)\n",
    "    TP = np.sum((y_true == 1) & (y_pred == 1))\n",
    "    TN = np.sum((y_true == 0) & (y_pred == 0))\n",
    "\n",
    "    acc = (TP + TN) / (P + N)\n",
    "    \n",
    "    return acc, TP, TN, P, N"
   ]
  },
  {
   "cell_type": "code",
   "execution_count": 16,
   "metadata": {},
   "outputs": [
    {
     "name": "stdout",
     "output_type": "stream",
     "text": [
      "TP = 286\n",
      "TN = 169\n",
      "P = 286\n",
      "N = 169\n",
      "acc = 1.0\n"
     ]
    }
   ],
   "source": [
    "forest = RandomForestClassifier(random_state=8, n_estimators=100, oob_score=True)\n",
    "forest.fit(X_train, y_train)\n",
    "y_pred = forest.predict(X_train)\n",
    "acc, TP, TN, P, N = calc_accuracy(y_train, y_pred)\n",
    "print(f'TP = {TP}\\nTN = {TN}\\nP = {P}\\nN = {N}\\nacc = {acc}')"
   ]
  },
  {
   "cell_type": "markdown",
   "metadata": {},
   "source": [
    "4) Выключите режим random subspaces в случайном лесе. Укажите качество."
   ]
  },
  {
   "cell_type": "code",
   "execution_count": 20,
   "metadata": {},
   "outputs": [
    {
     "data": {
      "text/plain": [
       "0.972222"
      ]
     },
     "execution_count": 20,
     "metadata": {},
     "output_type": "execute_result"
    }
   ],
   "source": [
    "forest = RandomForestClassifier(n_estimators=100, oob_score=True)\n",
    "compute_metric(forest)"
   ]
  },
  {
   "cell_type": "markdown",
   "metadata": {},
   "source": [
    "5) Выключите режим бутстрапа и переобучите случайный лес. Укажите качество."
   ]
  },
  {
   "cell_type": "code",
   "execution_count": 21,
   "metadata": {},
   "outputs": [
    {
     "data": {
      "text/plain": [
       "0.965035"
      ]
     },
     "execution_count": 21,
     "metadata": {},
     "output_type": "execute_result"
    }
   ],
   "source": [
    "forest = RandomForestClassifier(n_estimators=100, bootstrap=False)\n",
    "compute_metric(forest)"
   ]
  },
  {
   "cell_type": "markdown",
   "metadata": {},
   "source": [
    "6) Какая средняя глубина у деревьев, которые получаются в случайном лесе со стандартными параметрами при его обучении на этой обучающей выборке?"
   ]
  },
  {
   "cell_type": "code",
   "execution_count": 22,
   "metadata": {},
   "outputs": [
    {
     "name": "stdout",
     "output_type": "stream",
     "text": [
      "Средняя глубина = 7.0\n"
     ]
    }
   ],
   "source": [
    "forest = RandomForestClassifier()\n",
    "forest.fit(X_train, y_train)\n",
    "sum_depth = 0\n",
    "for i in range(forest.n_estimators):\n",
    "    sum_depth = sum_depth + forest.estimators_[0].tree_.max_depth\n",
    "\n",
    "print('Средняя глубина =', sum_depth/forest.n_estimators)"
   ]
  }
 ],
 "metadata": {
  "kernelspec": {
   "display_name": "Python 3",
   "language": "python",
   "name": "python3"
  },
  "language_info": {
   "codemirror_mode": {
    "name": "ipython",
    "version": 3
   },
   "file_extension": ".py",
   "mimetype": "text/x-python",
   "name": "python",
   "nbconvert_exporter": "python",
   "pygments_lexer": "ipython3",
   "version": "3.8.5"
  }
 },
 "nbformat": 4,
 "nbformat_minor": 2
}
