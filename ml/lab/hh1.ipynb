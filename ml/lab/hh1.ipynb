{
 "cells": [
  {
   "cell_type": "code",
   "execution_count": 2,
   "metadata": {},
   "outputs": [],
   "source": [
    "import numpy as np\n",
    "import pandas as pd\n",
    "import seaborn as sea\n",
    "from sklearn.preprocessing import PolynomialFeatures, StandardScaler \n",
    "import math"
   ]
  },
  {
   "cell_type": "markdown",
   "metadata": {},
   "source": [
    "# Задание 1"
   ]
  },
  {
   "cell_type": "code",
   "execution_count": 3,
   "metadata": {},
   "outputs": [],
   "source": [
    "pos = pd.Series(['Ручка','Карандаш','Тетрадь','Штрих','Пенал'], name='Позиция')\n",
    "brand = pd.Series(['AF International','AGIPA','AGRESTI','AIDATA','AIHAO'], name='Бренд')\n",
    "country = pd.Series([\"Великобритания\", \"Франция\", \"Италия\", \"Тайвань\", \"Китай\"], name='Страна производитель')\n",
    "price = pd.Series([12,8,3,np.NaN,5], name='Цена')\n",
    "frame = pd.concat([pos,brand,country,price], axis=1)"
   ]
  },
  {
   "cell_type": "code",
   "execution_count": null,
   "metadata": {},
   "outputs": [],
   "source": []
  }
 ],
 "metadata": {
  "kernelspec": {
   "display_name": "Python 3",
   "language": "python",
   "name": "python3"
  },
  "language_info": {
   "codemirror_mode": {
    "name": "ipython",
    "version": 3
   },
   "file_extension": ".py",
   "mimetype": "text/x-python",
   "name": "python",
   "nbconvert_exporter": "python",
   "pygments_lexer": "ipython3",
   "version": "3.8.5"
  }
 },
 "nbformat": 4,
 "nbformat_minor": 4
}
