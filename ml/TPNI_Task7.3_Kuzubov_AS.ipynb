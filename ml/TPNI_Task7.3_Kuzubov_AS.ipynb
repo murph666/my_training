{
 "cells": [
  {
   "cell_type": "code",
   "execution_count": 12,
   "metadata": {},
   "outputs": [],
   "source": [
    "import pandas as pd\n",
    "from sklearn.model_selection import train_test_split"
   ]
  },
  {
   "cell_type": "code",
   "execution_count": 9,
   "metadata": {},
   "outputs": [
    {
     "output_type": "stream",
     "name": "stderr",
     "text": [
      "C:\\Users\\Akexander\\AppData\\Roaming\\Python\\Python38\\site-packages\\IPython\\core\\interactiveshell.py:3155: DtypeWarning: Columns (11,12,31) have mixed types.Specify dtype option on import or set low_memory=False.\n  has_raised = await self.run_ast_nodes(code_ast.body, cell_name,\n"
     ]
    }
   ],
   "source": [
    "Train_data = pd.read_csv('./train(5).csv')"
   ]
  },
  {
   "cell_type": "code",
   "execution_count": 10,
   "metadata": {},
   "outputs": [
    {
     "output_type": "execute_result",
     "data": {
      "text/plain": [
       "   ticket_id                                     agency_name  \\\n",
       "0      22056  Buildings, Safety Engineering & Env Department   \n",
       "1      27586  Buildings, Safety Engineering & Env Department   \n",
       "2      22062  Buildings, Safety Engineering & Env Department   \n",
       "3      22084  Buildings, Safety Engineering & Env Department   \n",
       "4      22093  Buildings, Safety Engineering & Env Department   \n",
       "\n",
       "     inspector_name                      violator_name  \\\n",
       "0   Sims, Martinzie  INVESTMENT INC., MIDWEST MORTGAGE   \n",
       "1  Williams, Darrin           Michigan, Covenant House   \n",
       "2   Sims, Martinzie                    SANDERS, DERRON   \n",
       "3   Sims, Martinzie                       MOROSI, MIKE   \n",
       "4   Sims, Martinzie                    NATHANIEL, NEAL   \n",
       "\n",
       "   violation_street_number violation_street_name  violation_zip_code  \\\n",
       "0                   2900.0                 TYLER                 NaN   \n",
       "1                   4311.0               CENTRAL                 NaN   \n",
       "2                   1449.0            LONGFELLOW                 NaN   \n",
       "3                   1441.0            LONGFELLOW                 NaN   \n",
       "4                   2449.0             CHURCHILL                 NaN   \n",
       "\n",
       "   mailing_address_str_number mailing_address_str_name     city  ...  \\\n",
       "0                         3.0                S. WICKER  CHICAGO  ...   \n",
       "1                      2959.0       Martin Luther King  Detroit  ...   \n",
       "2                     23658.0                 P.O. BOX  DETROIT  ...   \n",
       "3                         5.0                ST. CLAIR  DETROIT  ...   \n",
       "4                      7449.0                CHURCHILL  DETROIT  ...   \n",
       "\n",
       "  clean_up_cost judgment_amount payment_amount balance_due  \\\n",
       "0           0.0           305.0            0.0       305.0   \n",
       "1           0.0           855.0          780.0        75.0   \n",
       "2           0.0             0.0            0.0         0.0   \n",
       "3           0.0             0.0            0.0         0.0   \n",
       "4           0.0             0.0            0.0         0.0   \n",
       "\n",
       "          payment_date      payment_status collection_status grafitti_status  \\\n",
       "0                  NaN  NO PAYMENT APPLIED               NaN             NaN   \n",
       "1  2005-06-02 00:00:00        PAID IN FULL               NaN             NaN   \n",
       "2                  NaN  NO PAYMENT APPLIED               NaN             NaN   \n",
       "3                  NaN  NO PAYMENT APPLIED               NaN             NaN   \n",
       "4                  NaN  NO PAYMENT APPLIED               NaN             NaN   \n",
       "\n",
       "                          compliance_detail  compliance  \n",
       "0               non-compliant by no payment         0.0  \n",
       "1  compliant by late payment within 1 month         1.0  \n",
       "2            not responsible by disposition         NaN  \n",
       "3            not responsible by disposition         NaN  \n",
       "4            not responsible by disposition         NaN  \n",
       "\n",
       "[5 rows x 34 columns]"
      ],
      "text/html": "<div>\n<style scoped>\n    .dataframe tbody tr th:only-of-type {\n        vertical-align: middle;\n    }\n\n    .dataframe tbody tr th {\n        vertical-align: top;\n    }\n\n    .dataframe thead th {\n        text-align: right;\n    }\n</style>\n<table border=\"1\" class=\"dataframe\">\n  <thead>\n    <tr style=\"text-align: right;\">\n      <th></th>\n      <th>ticket_id</th>\n      <th>agency_name</th>\n      <th>inspector_name</th>\n      <th>violator_name</th>\n      <th>violation_street_number</th>\n      <th>violation_street_name</th>\n      <th>violation_zip_code</th>\n      <th>mailing_address_str_number</th>\n      <th>mailing_address_str_name</th>\n      <th>city</th>\n      <th>...</th>\n      <th>clean_up_cost</th>\n      <th>judgment_amount</th>\n      <th>payment_amount</th>\n      <th>balance_due</th>\n      <th>payment_date</th>\n      <th>payment_status</th>\n      <th>collection_status</th>\n      <th>grafitti_status</th>\n      <th>compliance_detail</th>\n      <th>compliance</th>\n    </tr>\n  </thead>\n  <tbody>\n    <tr>\n      <th>0</th>\n      <td>22056</td>\n      <td>Buildings, Safety Engineering &amp; Env Department</td>\n      <td>Sims, Martinzie</td>\n      <td>INVESTMENT INC., MIDWEST MORTGAGE</td>\n      <td>2900.0</td>\n      <td>TYLER</td>\n      <td>NaN</td>\n      <td>3.0</td>\n      <td>S. WICKER</td>\n      <td>CHICAGO</td>\n      <td>...</td>\n      <td>0.0</td>\n      <td>305.0</td>\n      <td>0.0</td>\n      <td>305.0</td>\n      <td>NaN</td>\n      <td>NO PAYMENT APPLIED</td>\n      <td>NaN</td>\n      <td>NaN</td>\n      <td>non-compliant by no payment</td>\n      <td>0.0</td>\n    </tr>\n    <tr>\n      <th>1</th>\n      <td>27586</td>\n      <td>Buildings, Safety Engineering &amp; Env Department</td>\n      <td>Williams, Darrin</td>\n      <td>Michigan, Covenant House</td>\n      <td>4311.0</td>\n      <td>CENTRAL</td>\n      <td>NaN</td>\n      <td>2959.0</td>\n      <td>Martin Luther King</td>\n      <td>Detroit</td>\n      <td>...</td>\n      <td>0.0</td>\n      <td>855.0</td>\n      <td>780.0</td>\n      <td>75.0</td>\n      <td>2005-06-02 00:00:00</td>\n      <td>PAID IN FULL</td>\n      <td>NaN</td>\n      <td>NaN</td>\n      <td>compliant by late payment within 1 month</td>\n      <td>1.0</td>\n    </tr>\n    <tr>\n      <th>2</th>\n      <td>22062</td>\n      <td>Buildings, Safety Engineering &amp; Env Department</td>\n      <td>Sims, Martinzie</td>\n      <td>SANDERS, DERRON</td>\n      <td>1449.0</td>\n      <td>LONGFELLOW</td>\n      <td>NaN</td>\n      <td>23658.0</td>\n      <td>P.O. BOX</td>\n      <td>DETROIT</td>\n      <td>...</td>\n      <td>0.0</td>\n      <td>0.0</td>\n      <td>0.0</td>\n      <td>0.0</td>\n      <td>NaN</td>\n      <td>NO PAYMENT APPLIED</td>\n      <td>NaN</td>\n      <td>NaN</td>\n      <td>not responsible by disposition</td>\n      <td>NaN</td>\n    </tr>\n    <tr>\n      <th>3</th>\n      <td>22084</td>\n      <td>Buildings, Safety Engineering &amp; Env Department</td>\n      <td>Sims, Martinzie</td>\n      <td>MOROSI, MIKE</td>\n      <td>1441.0</td>\n      <td>LONGFELLOW</td>\n      <td>NaN</td>\n      <td>5.0</td>\n      <td>ST. CLAIR</td>\n      <td>DETROIT</td>\n      <td>...</td>\n      <td>0.0</td>\n      <td>0.0</td>\n      <td>0.0</td>\n      <td>0.0</td>\n      <td>NaN</td>\n      <td>NO PAYMENT APPLIED</td>\n      <td>NaN</td>\n      <td>NaN</td>\n      <td>not responsible by disposition</td>\n      <td>NaN</td>\n    </tr>\n    <tr>\n      <th>4</th>\n      <td>22093</td>\n      <td>Buildings, Safety Engineering &amp; Env Department</td>\n      <td>Sims, Martinzie</td>\n      <td>NATHANIEL, NEAL</td>\n      <td>2449.0</td>\n      <td>CHURCHILL</td>\n      <td>NaN</td>\n      <td>7449.0</td>\n      <td>CHURCHILL</td>\n      <td>DETROIT</td>\n      <td>...</td>\n      <td>0.0</td>\n      <td>0.0</td>\n      <td>0.0</td>\n      <td>0.0</td>\n      <td>NaN</td>\n      <td>NO PAYMENT APPLIED</td>\n      <td>NaN</td>\n      <td>NaN</td>\n      <td>not responsible by disposition</td>\n      <td>NaN</td>\n    </tr>\n  </tbody>\n</table>\n<p>5 rows × 34 columns</p>\n</div>"
     },
     "metadata": {},
     "execution_count": 10
    }
   ],
   "source": [
    "Train_data.head(5)"
   ]
  },
  {
   "cell_type": "markdown",
   "metadata": {},
   "source": [
    "Разобьем исходную выборку на две части: тренировочную и тестовую, используя scikit-learn метод [train_test_split]"
   ]
  },
  {
   "cell_type": "code",
   "execution_count": 33,
   "metadata": {},
   "outputs": [],
   "source": [
    "train, test = train_test_split(Train_data, test_size=0.3, shuffle=False)"
   ]
  },
  {
   "cell_type": "code",
   "execution_count": 34,
   "metadata": {},
   "outputs": [
    {
     "output_type": "stream",
     "name": "stdout",
     "text": [
      "Размер исходной выборки: (250306, 34)\nРазмер тренировочной выборки: (175214, 34)\nРазмер тестовой выборки: (75092, 34)\n"
     ]
    }
   ],
   "source": [
    "print('Размер исходной выборки: {}\\nРазмер тренировочной выборки: {}\\nРазмер тестовой выборки: {}'\n",
    "      .format(Train_data.shape, train.shape, test.shape)\n",
    ")"
   ]
  },
  {
   "cell_type": "code",
   "execution_count": 35,
   "metadata": {},
   "outputs": [
    {
     "output_type": "stream",
     "name": "stdout",
     "text": [
      "Определение среднего значения для признака payment_amount.\nСреднее значение исходной выборки: 48.898986440596715\nСреднее значение тренировочной выборки: 55.224980309792606\nСреднее значение тестовой выборки: 34.138390241304\n"
     ]
    }
   ],
   "source": [
    "print('Определение среднего значения для признака payment_amount.\\nСреднее значение исходной выборки: {}\\nСреднее значение тренировочной выборки: {}\\nСреднее значение тестовой выборки: {}' .format(Train_data[\"payment_amount\"].mean(), train[\"payment_amount\"].mean(), test[\"payment_amount\"].mean()))"
   ]
  }
 ],
 "metadata": {
  "kernelspec": {
   "name": "python386jvsc74a57bd017b176003e5a58299d9d377f93fe2023428afbf220a933b9e6076d6870c707c0",
   "display_name": "Python 3.8.6 32-bit"
  },
  "language_info": {
   "codemirror_mode": {
    "name": "ipython",
    "version": 3
   },
   "file_extension": ".py",
   "mimetype": "text/x-python",
   "name": "python",
   "nbconvert_exporter": "python",
   "pygments_lexer": "ipython3",
   "version": "3.8.6-final"
  },
  "metadata": {
   "interpreter": {
    "hash": "17b176003e5a58299d9d377f93fe2023428afbf220a933b9e6076d6870c707c0"
   }
  }
 },
 "nbformat": 4,
 "nbformat_minor": 2
}